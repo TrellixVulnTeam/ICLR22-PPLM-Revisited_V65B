{
 "cells": [
  {
   "cell_type": "code",
   "execution_count": 2,
   "id": "8eb3fd2f",
   "metadata": {},
   "outputs": [],
   "source": [
    "%load_ext autoreload\n",
    "%autoreload 2"
   ]
  },
  {
   "cell_type": "code",
   "execution_count": 3,
   "id": "98999704",
   "metadata": {},
   "outputs": [],
   "source": [
    "from transformers.modeling_gpt2 import GPT2LMHeadModel\n",
    "# This downloads GPT-2 Medium, it takes a little while\n",
    "_ = GPT2LMHeadModel.from_pretrained(\"gpt2-medium\")"
   ]
  },
  {
   "cell_type": "code",
   "execution_count": 1,
   "id": "40787416",
   "metadata": {},
   "outputs": [],
   "source": [
    "import warnings\n",
    "# Surpress transformers/modeling_gpt2.py:757: FutureWarning: The `past` argument is deprecated and will be removed in a future version, use `past_key_values` instead.\n",
    "warnings.simplefilter(action='ignore', category=FutureWarning)\n",
    "\n",
    "from run_pplm import run_pplm_example\n",
    "from IPython.display import display, HTML\n"
   ]
  },
  {
   "cell_type": "markdown",
   "id": "2a471ba3",
   "metadata": {},
   "source": [
    "# Reproducibility \n",
    "The results in this section are corresponding to Reproducibility section of the blog post"
   ]
  },
  {
   "cell_type": "markdown",
   "id": "d84cd6f6",
   "metadata": {},
   "source": [
    "## From the paper \n",
    "The results from this sub-section are corresponding to column \"from the paper\". We use hyperparameters in Table S18 in Appendix section. The paper's results are presented in Table S10.<br/>The unguided and perturbed results can be observed in the end of the output of each cell <br/> Please run the cell below to get the results"
   ]
  },
  {
   "cell_type": "code",
   "execution_count": null,
   "id": "af495857",
   "metadata": {},
   "outputs": [],
   "source": [
    "!python paper_code/pplm.py -B military --cond-text \"The potato\""
   ]
  },
  {
   "cell_type": "markdown",
   "id": "6960b2df",
   "metadata": {},
   "source": [
    "Hyperparameter tuning."
   ]
  },
  {
   "cell_type": "code",
   "execution_count": null,
   "id": "7001acbc",
   "metadata": {},
   "outputs": [],
   "source": [
    "!python paper_code/pplm.py -B military --stepsize 0.03 --cond-text \"The potato\""
   ]
  },
  {
   "cell_type": "code",
   "execution_count": 7,
   "id": "6a2d474c",
   "metadata": {},
   "outputs": [
    {
     "data": {
      "text/html": [
       "<table> <tr> <td><strong>From paper </strong> </td> <td><strong>Github - unchanged hyperparameters </strong> </td> <td><strong>Github - tuned hyperparameters</strong> </td> </tr> <tr> <td> <br/> The potato-sized monster who murdered his wife in a horrific suicide<span style=\"color:red\"> bomb</span><span style=\"color:red\"> attack</span>outside the Iranian embassy in Tehran has<span style=\"color:red\"> kill</span>ed a<span style=\"color:red\"> soldier</span>and<span style=\"color:red\"> wound</span>ed another<span style=\"color:red\"> soldier</span>.\n",
       " \n",
       " The<span style=\"color:red\"> soldier</span>and a third<span style=\"color:red\"> soldier</span>were<span style=\"color:red\"> kill</span>ed in the<span style=\"color:red\"> attack</span>, a<span style=\"color:red\"> military</span>official told Iranian news agency Fars reported.\n",
       " \n",
       " The suicide<span style=\"color:red\"> bomb</span>ing of an<span style=\"color:red\"> army</span>truck in the Iranian side of the<span style=\"color:red\"> front</span>lines<span style=\"color:red\"> kill</span>ed a<span style=\"color:red\"> soldier</span>and<span style=\"color:red\"> wound</span>ed a second<span style=\"color:red\"> soldier</span>,<span style=\"color:red\"> military</span><span style=\"color:red\"> command</span>er Genadier General Hossein Salami said in a statement, reported state television. <br/> </td> <td> The potato chips were a popular snack for the kids. <br/> The potato chips were also a popular snack for the kids, according to the Washington Post.&lt;|endoftext|>Image copyright Reuters Image caption The BBC has been unable to access the site <br/> <br/> Two people have been detained over a video which shows the police<span style=\"color:red\"> force</span>'s helicopter taking down a speeding car. <br/> <br/> The helicopter was seen speeding down the M25 at about 12:20 GMT at the weekend. </td> <td> The potato is the best source of protein for your health. <br/> <br/> The potato is one of the most powerful sources of energy. <br/> <br/> The potato can be easily eaten and is highly effective, as long as you are eating it. It is also one of the most effective ways to<span style=\"color:red\"> fight</span> off enemies, such as the archer. <br/> <br/> The archer is a powerful<span style=\"color:red\"> enemy</span>that can destroy the archer, and can even stop you from being able to<span style=\"color:red\"> kill</span>the archer with a single<span style=\"color:red\"> shot</span>. The <br/> </td> </tr> </table>"
      ],
      "text/plain": [
       "<IPython.core.display.HTML object>"
      ]
     },
     "metadata": {},
     "output_type": "display_data"
    }
   ],
   "source": [
    "reproduce_1 = '<table> <tr> <td><strong>From paper </strong> </td> <td><strong>Github - unchanged hyperparameters </strong> </td> <td><strong>Github - tuned hyperparameters</strong> </td> </tr> <tr> <td> <br/> The potato-sized monster who murdered his wife in a horrific suicide<span style=\"color:red\"> bomb</span><span style=\"color:red\"> attack</span>outside the Iranian embassy in Tehran has<span style=\"color:red\"> kill</span>ed a<span style=\"color:red\"> soldier</span>and<span style=\"color:red\"> wound</span>ed another<span style=\"color:red\"> soldier</span>.\\n \\n The<span style=\"color:red\"> soldier</span>and a third<span style=\"color:red\"> soldier</span>were<span style=\"color:red\"> kill</span>ed in the<span style=\"color:red\"> attack</span>, a<span style=\"color:red\"> military</span>official told Iranian news agency Fars reported.\\n \\n The suicide<span style=\"color:red\"> bomb</span>ing of an<span style=\"color:red\"> army</span>truck in the Iranian side of the<span style=\"color:red\"> front</span>lines<span style=\"color:red\"> kill</span>ed a<span style=\"color:red\"> soldier</span>and<span style=\"color:red\"> wound</span>ed a second<span style=\"color:red\"> soldier</span>,<span style=\"color:red\"> military</span><span style=\"color:red\"> command</span>er Genadier General Hossein Salami said in a statement, reported state television. <br/> </td> <td> The potato chips were a popular snack for the kids. <br/> The potato chips were also a popular snack for the kids, according to the Washington Post.&lt;|endoftext|>Image copyright Reuters Image caption The BBC has been unable to access the site <br/> <br/> Two people have been detained over a video which shows the police<span style=\"color:red\"> force</span>\\'s helicopter taking down a speeding car. <br/> <br/> The helicopter was seen speeding down the M25 at about 12:20 GMT at the weekend. </td> <td> The potato is the best source of protein for your health. <br/> <br/> The potato is one of the most powerful sources of energy. <br/> <br/> The potato can be easily eaten and is highly effective, as long as you are eating it. It is also one of the most effective ways to<span style=\"color:red\"> fight</span> off enemies, such as the archer. <br/> <br/> The archer is a powerful<span style=\"color:red\"> enemy</span>that can destroy the archer, and can even stop you from being able to<span style=\"color:red\"> kill</span>the archer with a single<span style=\"color:red\"> shot</span>. The <br/> </td> </tr> </table>'\n",
    "display(HTML(reproduce_1))"
   ]
  },
  {
   "cell_type": "markdown",
   "id": "06ab4f13",
   "metadata": {},
   "source": [
    "## From the colab notebook\n",
    "We follow the author's colab notebook: https://colab.research.google.com/drive/1Ux0Z4-ruiVtJ6jUk98uk6FqfvGHCOYL3"
   ]
  },
  {
   "cell_type": "code",
   "execution_count": 2,
   "id": "3716b373",
   "metadata": {},
   "outputs": [
    {
     "name": "stdout",
     "output_type": "stream",
     "text": [
      "= Prefix of sentence =\n",
      "<|endoftext|>The potato\n",
      "\n",
      "= Unperturbed generated text =\n",
      "<|endoftext|>The potato plant is a member of the cabbage family, but is also a member of the mustard family, and is sometimes confused with mustard. It is not native to America and is not part of its family, although the potato is native to Europe.\n",
      "\n",
      "\n",
      "\n",
      "= Perturbed generated text 1 =\n",
      "<|endoftext|>The potato salad recipe that is so popular with the kids is based on one of those classic classic dishes. I was intrigued and a little skeptical at the thought of this classic dish. It was a staple in my family for years. It is not hard to find\n",
      "\n",
      "= Perturbed generated text 2 =\n",
      "<|endoftext|>The potato chip is the first of the year and is the perfect snack to have on hand for the holidays. But the recipe is a little tricky. This is because we have a potato\u001b[31m bomb\u001b[0m recipe.\n",
      "\n",
      "What is a potato\u001b[31m bomb\u001b[0m?\n",
      "\n",
      "If you\n",
      "\n",
      "= Perturbed generated text 3 =\n",
      "<|endoftext|>The potato is one of the most nutritious vegetables that can provide all the essential micronutrients needed for a healthy body, but some people are concerned about the long-term health effects.\n",
      "\n",
      "The health of the potato is inextricably tied to\n",
      "\n",
      "= Perturbed generated text 4 =\n",
      "<|endoftext|>The potato chip explosion is over. The\u001b[31m company\u001b[0m has pulled its ads from CNN, ABC, CBS and NBC, according to a statement from the\u001b[31m company\u001b[0m. (The\u001b[31m company\u001b[0m declined to comment further for the story.) But it's still hard to believe that the\u001b[31m company\u001b[0m,\n",
      "\n",
      "= Perturbed generated text 5 =\n",
      "<|endoftext|>The potato was a great food staple, and it was also one of the world's first mass-market weapons. But the\u001b[31m war\u001b[0m began before World War I, and as the\u001b[31m war\u001b[0m raged on, the\u001b[31m war\u001b[0m machine came into view. As the world\u001b[31m war\u001b[0m was fought\n",
      "\n",
      "= Perturbed generated text 6 =\n",
      "<|endoftext|>The potato chip is a staple of American society. It's a snack that's grown to be a staple food for a generation that wants something to eat every day and then some, but is still\u001b[31m bomb\u001b[0marded by\u001b[31m war\u001b[0m and poverty.\n",
      "\n",
      "In Iraq and Afghanistan\n",
      "\n",
      "= Perturbed generated text 7 =\n",
      "<|endoftext|>The potato is one of my favorite dishes of the world! It's a quick meal and you can make the recipe for it as soon as you finish cooking.\n",
      "\n",
      "The potato recipe below uses 2 large eggs, 3 cups milk, 1/2 cup bread\n",
      "\n",
      "= Perturbed generated text 8 =\n",
      "<|endoftext|>The potato chip recipe for the perfect summertime snack is simple, easy to whip up and a blast to enjoy with friends and family, all in a baggy, baggy, baggy baggie that looks like it was made for one big\u001b[31m fight\u001b[0m.\n",
      "\n",
      "\n",
      "= Perturbed generated text 9 =\n",
      "<|endoftext|>The potato plant (or as they call it, \"basket plant\") has been a staple of American culture in recent decades. In the 1960s, the potato was sold as a \"super food\" that can be \"fucked with the most\", as\n",
      "\n",
      "= Perturbed generated text 10 =\n",
      "<|endoftext|>The potato chips industry is about to become a little bit more mainstream, but not quite enough.\n",
      "\n",
      "The potato\u001b[31m company\u001b[0m, which makes the chips sold in more than 30 stores in the United States, announced Thursday that its chief executive\u001b[31m officer\u001b[0m, Mark Bittman\n",
      "\n"
     ]
    }
   ],
   "source": [
    "_ = run_pplm_example(\n",
    "    cond_text=\"The potato\",\n",
    "    num_samples=10,\n",
    "    bag_of_words='military',\n",
    "    length=50,\n",
    "    stepsize=0.03,\n",
    "    sample=True,\n",
    "    num_iterations=3,\n",
    "    window_length=5,\n",
    "    gamma=1.5,\n",
    "    gm_scale=0.95,\n",
    "    kl_scale=0.01,\n",
    "    colorama = True,\n",
    "    verbosity='quiet'\n",
    ")"
   ]
  },
  {
   "cell_type": "markdown",
   "id": "62826e45",
   "metadata": {},
   "source": [
    "### hyperparameter tuning"
   ]
  },
  {
   "cell_type": "code",
   "execution_count": 9,
   "id": "180154d6",
   "metadata": {},
   "outputs": [
    {
     "name": "stdout",
     "output_type": "stream",
     "text": [
      "= Prefix of sentence =\n",
      "<|endoftext|>The potato\n",
      "\n",
      "= Unperturbed generated text =\n",
      "<|endoftext|>The potato plant is a member of the cabbage family, but is also a member of the mustard family, and is sometimes confused with mustard. It is not edible.\n",
      "\n",
      "A potato has the same color, appearance and taste of any of these vegetables.\n",
      "\n",
      "\n",
      "= Perturbed generated text 1 =\n",
      "<|endoftext|>The potato was the first to fall, but the potato salad has since taken over.\n",
      "\n",
      "The world may be on a nuclear\u001b[31m war\u001b[0mpath, but potato-eating is still in the bag for a new generation of British teenagers.\n",
      "\n",
      "And the trend is\n",
      "\n",
      "= Perturbed generated text 2 =\n",
      "<|endoftext|>The potato chip is the most popular chip snack in Canada, but is it the healthiest?\n",
      "\n",
      "We asked the experts to weigh in on the health\u001b[31m bomb\u001b[0m that is potato chips.\n",
      "\n",
      "The\u001b[31m bomb\u001b[0m\n",
      "\n",
      "The potato bombs are loaded with salt and fat\n",
      "\n",
      "= Perturbed generated text 3 =\n",
      "<|endoftext|>The potato is one of the best-tasting foods to come out of the Middle East and has been around since the early 20th century. The Middle East has had its share of wars, but the most important of which was between Israel and Egypt. Israel\n",
      "\n",
      "= Perturbed generated text 4 =\n",
      "<|endoftext|>The potato chip explosion is a very serious thing.\n",
      "\n",
      "A\u001b[31m bomb\u001b[0m has been planted at a restaurant in the northern city of Kobani, and the\u001b[31m bomb\u001b[0m detonated just after 4am. The explosion destroyed at least two restaurants, as well as a petrol\u001b[31m bomb\u001b[0m,\n",
      "\n",
      "= Perturbed generated text 5 =\n",
      "<|endoftext|>The potato was a great food staple, and it was also one of the world's first\u001b[31m war\u001b[0m weapons. The potato was the first\u001b[31m weapon\u001b[0m to make\u001b[31m war\u001b[0m possible, and it was a\u001b[31m major\u001b[0m factor in the\u001b[31m war\u001b[0m of the\u001b[31m war\u001b[0m to come.\n",
      "\n",
      "The potato was\n",
      "\n",
      "= Perturbed generated text 6 =\n",
      "<|endoftext|>The potato chip is a staple of American society. It's a snack that's been eaten for breakfast and dinner, and it's been used by many as a substitute for bombs, bullets, bombs, bombs.\n",
      "\n",
      "But it's also a\u001b[31m bomb\u001b[0m — an\n",
      "\n",
      "= Perturbed generated text 7 =\n",
      "<|endoftext|>The potato is one of my favorite dishes of the world! It's a quick meal and you can make the recipe for it as soon as you finish cooking.\n",
      "\n",
      "The potato recipe below is for my \"Potato and Mushroom Soup\", it's an easy\n",
      "\n",
      "= Perturbed generated text 8 =\n",
      "<|endoftext|>The potato chip\u001b[31m bomb\u001b[0m. Photo: Supplied.\n",
      "\n",
      "A\u001b[31m bomb\u001b[0m has exploded in a Sydney suburb, injuring five people who were in the car\u001b[31m bomb\u001b[0m\u001b[31m squad\u001b[0m's\u001b[31m bomb\u001b[0m\u001b[31m squad\u001b[0m vehicle, and killing at least two police officers, police have confirmed.\n",
      "\n",
      "The\u001b[31m bomb\u001b[0m\n",
      "\n",
      "= Perturbed generated text 9 =\n",
      "<|endoftext|>The potato plant (or as they call it, \"basket case\"). This thing is so large that it can easily cover an entire city.\n",
      "\n",
      "The\u001b[31m bomb\u001b[0m. It's the\u001b[31m bomb\u001b[0m, man. The\u001b[31m bomb\u001b[0m. And you don't hear a thing when\n",
      "\n",
      "= Perturbed generated text 10 =\n",
      "<|endoftext|>The potato chips industry has been hit by a\u001b[31m major\u001b[0m blow as a group of food processors including McDonald's, PepsiCo and Unilever are withdrawing their support after revelations that a\u001b[31m major\u001b[0m food\u001b[31m company\u001b[0m had paid to install surveillance cameras at one of its suppliers in the UK\n",
      "\n"
     ]
    }
   ],
   "source": [
    "_ =run_pplm_example(\n",
    "    cond_text=\"The potato\",\n",
    "    num_samples=10,\n",
    "    bag_of_words='military',\n",
    "    length=50,\n",
    "    stepsize=0.06,\n",
    "    sample=True,\n",
    "    num_iterations=3,\n",
    "    window_length=5,\n",
    "    gamma=1.5,\n",
    "    gm_scale=0.65,\n",
    "    kl_scale=0.05,\n",
    "    grad_length=30,\n",
    "    colorama = True,\n",
    "    verbosity='quiet'\n",
    ")"
   ]
  },
  {
   "cell_type": "code",
   "execution_count": 10,
   "id": "6e36c482",
   "metadata": {},
   "outputs": [
    {
     "data": {
      "text/html": [
       "<table> <tr> <td></td> <td colspan=\"4\"><strong>from Colab notebook - executed by the authors</strong></td> </tr> <tr> <td> </td> <td> <strong>Not Steered</strong> </td> <td> <strong>Steered 1</strong> </td> <td> <strong>Steered 2</strong> </td> <td> <strong>Steered 3</strong> </td> </tr> <tr> <td> <strong>Original</strong> </td> <td>The potato is probably the world's most widely eaten plant. But what if it's also the most dangerous? <br/> <br/> In the last two decades, there's been a dramatic decrease in potato crop damage from crop rot and disease. The decline, which started in </td> <td> The potato-like, potato-sized thing is the most popular of all the things we do in the<span style=\"color:red\"> military</span>, especially if you're a<span style=\"color:red\"> soldier</span>in the field. <br/> <br/> It's an assault<span style=\"color:red\"> weapon</span>. <br/> <br/> It's an<span style=\"color:red\"> armor</span>ed vehicle. <br/> <br/> It </td> <td> The potato<span style=\"color:red\"> bomb</span>and the anti-Semitic<span style=\"color:red\"> attack</span>that<span style=\"color:red\"> kill</span>ed four Jewish students at a Jewish school in France are \"unacceptable\" but have no connection with terrorism, Prime Minister Justin Trudeau told a news conference on Wednesday. <br/> <br/> \"We will not tolerate hate,\" </td> <td> The potato chip craze is in full swing. <br/> <br/> The popular snacks have been around for years, but now they're hitting the mainstream. And while some brands have tried to capitalize on the potato chips craze, there are many brands who haven't. </td> </tr> <tr> <td></td> <td colspan=\"5\"><strong> from Colab notebook - executed by us locally </strong></td> </tr> <tr> <td> </td> <td> <strong>Not Steered</strong> </td> <td> <strong>Steered 1</strong> </td> <td> <strong>Steered 2</strong> </td> <td> <strong>Steered 3</strong> </td> </tr> <tr> <td> <strong>Unchanged hyperparameters</strong> </td> <td> The potato plant is a member of the cabbage family, but is also a member of the mustard family, and is sometimes confused with mustard. It is not native to America and is not part of its family, although the potato is native to Europe. </td> <td>The potato salad recipe that is so popular with the kids is based on one of those classic classic dishes. I was intrigued and a little skeptical at the thought of this classic dish. It was a staple in my family for years. It is not hard to find </td> <td> The potato chip is the first of the year and is the perfect snack to have on hand for the holidays. But the recipe is a little tricky. This is because we have a potato<span style=\"color:red\"> bomb</span>recipe. <br/> What is a potato<span style=\"color:red\"> bomb</span>?</span> </td> <td>The potato is one of the most nutritious vegetables that can provide all the essential micronutrients needed for a healthy body, but some people are concerned about the long-term health effects. <br/> The health of the potato is inextricably tied to </td> </tr> <tr> <td> <strong>Tuned hyperparameters</strong> <br/> </td> <td>The potato plant is a member of the cabbage family, but is also a member of the mustard family, and is sometimes confused with mustard. It is not native to America and is not part of its family, although the potato is native to Europe. <br/> </td> <td>The potato was the first to fall, but the potato salad has since taken over. <br/> <br/> The world may be on a nuclear<span style=\"color:red\"> war</span>path, but potato-eating is still in the bag for a new generation of British teenagers. <br/> <br/> And the trend is <br/> <br/> </td> <td> The potato chip is the most popular chip snack in Canada, but is it the healthiest? <br/> <br/> We asked the experts to weigh in on the health<span style=\"color:red\"> bomb</span>that is potato chips. <br/> <br/> The<span style=\"color:red\"> bomb</span> <br/> <br/> The potato chip<span style=\"color:red\"> bomb</span>?</span> <br/> <br/> The<span style=\"color:red\"> bomb</span> <br/> </td> <td>The potato is one of the best-tasting foods to come out of the Middle East and has been around since the early 20th century. The Middle East has had its share of<span style=\"color:red\"> war</span>s, but the most important of which was between Israel and Egypt. Israel </td> </tr> </table>"
      ],
      "text/plain": [
       "<IPython.core.display.HTML object>"
      ]
     },
     "metadata": {},
     "output_type": "display_data"
    }
   ],
   "source": [
    "reproduce = '<table> <tr> <td></td> <td colspan=\"4\"><strong>from Colab notebook - executed by the authors</strong></td> </tr> <tr> <td> </td> <td> <strong>Not Steered</strong> </td> <td> <strong>Steered 1</strong> </td> <td> <strong>Steered 2</strong> </td> <td> <strong>Steered 3</strong> </td> </tr> <tr> <td> <strong>Original</strong> </td> <td>The potato is probably the world\\'s most widely eaten plant. But what if it\\'s also the most dangerous? <br/> <br/> In the last two decades, there\\'s been a dramatic decrease in potato crop damage from crop rot and disease. The decline, which started in </td> <td> The potato-like, potato-sized thing is the most popular of all the things we do in the<span style=\"color:red\"> military</span>, especially if you\\'re a<span style=\"color:red\"> soldier</span>in the field. <br/> <br/> It\\'s an assault<span style=\"color:red\"> weapon</span>. <br/> <br/> It\\'s an<span style=\"color:red\"> armor</span>ed vehicle. <br/> <br/> It </td> <td> The potato<span style=\"color:red\"> bomb</span>and the anti-Semitic<span style=\"color:red\"> attack</span>that<span style=\"color:red\"> kill</span>ed four Jewish students at a Jewish school in France are \"unacceptable\" but have no connection with terrorism, Prime Minister Justin Trudeau told a news conference on Wednesday. <br/> <br/> \"We will not tolerate hate,\" </td> <td> The potato chip craze is in full swing. <br/> <br/> The popular snacks have been around for years, but now they\\'re hitting the mainstream. And while some brands have tried to capitalize on the potato chips craze, there are many brands who haven\\'t. </td> </tr> <tr> <td></td> <td colspan=\"5\"><strong> from Colab notebook - executed by us locally </strong></td> </tr> <tr> <td> </td> <td> <strong>Not Steered</strong> </td> <td> <strong>Steered 1</strong> </td> <td> <strong>Steered 2</strong> </td> <td> <strong>Steered 3</strong> </td> </tr> <tr> <td> <strong>Unchanged hyperparameters</strong> </td> <td> The potato plant is a member of the cabbage family, but is also a member of the mustard family, and is sometimes confused with mustard. It is not native to America and is not part of its family, although the potato is native to Europe. </td> <td>The potato salad recipe that is so popular with the kids is based on one of those classic classic dishes. I was intrigued and a little skeptical at the thought of this classic dish. It was a staple in my family for years. It is not hard to find </td> <td> The potato chip is the first of the year and is the perfect snack to have on hand for the holidays. But the recipe is a little tricky. This is because we have a potato<span style=\"color:red\"> bomb</span>recipe. <br/> What is a potato<span style=\"color:red\"> bomb</span>?</span> </td> <td>The potato is one of the most nutritious vegetables that can provide all the essential micronutrients needed for a healthy body, but some people are concerned about the long-term health effects. <br/> The health of the potato is inextricably tied to </td> </tr> <tr> <td> <strong>Tuned hyperparameters</strong> <br/> </td> <td>The potato plant is a member of the cabbage family, but is also a member of the mustard family, and is sometimes confused with mustard. It is not native to America and is not part of its family, although the potato is native to Europe. <br/> </td> <td>The potato was the first to fall, but the potato salad has since taken over. <br/> <br/> The world may be on a nuclear<span style=\"color:red\"> war</span>path, but potato-eating is still in the bag for a new generation of British teenagers. <br/> <br/> And the trend is <br/> <br/> </td> <td> The potato chip is the most popular chip snack in Canada, but is it the healthiest? <br/> <br/> We asked the experts to weigh in on the health<span style=\"color:red\"> bomb</span>that is potato chips. <br/> <br/> The<span style=\"color:red\"> bomb</span> <br/> <br/> The potato chip<span style=\"color:red\"> bomb</span>?</span> <br/> <br/> The<span style=\"color:red\"> bomb</span> <br/> </td> <td>The potato is one of the best-tasting foods to come out of the Middle East and has been around since the early 20th century. The Middle East has had its share of<span style=\"color:red\"> war</span>s, but the most important of which was between Israel and Egypt. Israel </td> </tr> </table>'\n",
    "display(HTML(reproduce))"
   ]
  },
  {
   "cell_type": "markdown",
   "id": "cbad12b8",
   "metadata": {},
   "source": [
    "# Experiment 3.1.a"
   ]
  },
  {
   "cell_type": "code",
   "execution_count": 11,
   "id": "7fcf2e30",
   "metadata": {},
   "outputs": [
    {
     "name": "stdout",
     "output_type": "stream",
     "text": [
      "= Prefix of sentence =\n",
      "<|endoftext|>\n",
      "\n",
      "= Unperturbed generated text =\n",
      "<|endoftext|>A couple weeks ago, I saw the trailer to\n",
      "\n",
      "= Perturbed generated text 1 =\n",
      "<|endoftext|>The Best Of The Last\u001b[31m How\u001b[0m To\u001b[31m How\u001b[0m To Create\n",
      "\n",
      "= Perturbed generated text 2 =\n",
      "<|endoftext|>In a stunning display of\u001b[31m how\u001b[0m little we know about\n",
      "\n",
      "= Perturbed generated text 3 =\n",
      "<|endoftext|>A few months ago\u001b[31m when\u001b[0m I started writing about the\n",
      "\n",
      "= Perturbed generated text 4 =\n",
      "<|endoftext|>The Best of The Best of\u001b[31m How\u001b[0m\u001b[31m How\u001b[0m\u001b[31m Why\u001b[0m Did\n",
      "\n",
      "= Perturbed generated text 5 =\n",
      "<|endoftext|>If you can, do\u001b[31m what\u001b[0m's\u001b[31m what\u001b[0m\u001b[31m what\u001b[0m\u001b[31m when\u001b[0m\n",
      "\n",
      "= Perturbed generated text 6 =\n",
      "<|endoftext|>This article contains\u001b[31m which\u001b[0m are not marked for translation.\n",
      "\n",
      "= Perturbed generated text 7 =\n",
      "<|endoftext|>What's a 'How To' Video Tutorial\n",
      "\n",
      "\n",
      "= Perturbed generated text 8 =\n",
      "<|endoftext|>The New York City\u001b[31m Who\u001b[0m's\u001b[31m Who\u001b[0m of Notorious\n",
      "\n",
      "= Perturbed generated text 9 =\n",
      "<|endoftext|>This was not the sort of thing I was expecting\n",
      "\n",
      "= Perturbed generated text 10 =\n",
      "<|endoftext|>A new, new, and not\u001b[31m what\u001b[0m I expected\n",
      "\n"
     ]
    }
   ],
   "source": [
    "_ =run_pplm_example(\n",
    "    cond_text=\"\",\n",
    "    num_samples=10,\n",
    "    bag_of_words='question',\n",
    "    length=10,\n",
    "    stepsize=0.065,\n",
    "    sample=True,\n",
    "    num_iterations=3,\n",
    "    window_length=5,\n",
    "    gamma=1.5,\n",
    "    gm_scale=0.65,\n",
    "    kl_scale=0.05,\n",
    "    colorama = True,\n",
    "    verbosity='quiet'\n",
    ")"
   ]
  },
  {
   "cell_type": "code",
   "execution_count": 12,
   "id": "ef0bf225",
   "metadata": {},
   "outputs": [
    {
     "data": {
      "text/html": [
       "<table border=\"1\" class=\"dataframe\">  <thead>    <tr style=\"text-align: right;\">      <th>prompt</th>      <th>without PPLM</th>      <th>PPLM sample 1</th>      <th>PPLM sample 2</th>      <th>PPLM sample 3</th>    </tr>  </thead>  <tbody>    <tr>      <td></td>      <td>A couple weeks ago, I saw the trailer to</td>      <td>The Best Of The Last<span style=\"color: red\"> How</span> To<span style=\"color: red\"> How</span> To Create</td>      <td>In a stunning display of<span style=\"color: red\"> how</span> little we know about</td>      <td>In a stunning display of<span style=\"color: red\"> how</span> little we know about</td>    </tr>  </tbody></table>"
      ],
      "text/plain": [
       "<IPython.core.display.HTML object>"
      ]
     },
     "metadata": {},
     "output_type": "display_data"
    }
   ],
   "source": [
    "## 3.1.a.1 \n",
    "ex_3_1_a_1 = '<table border=\"1\" class=\"dataframe\">  <thead>    <tr style=\"text-align: right;\">      <th>prompt</th>      <th>without PPLM</th>      <th>PPLM sample 1</th>      <th>PPLM sample 2</th>      <th>PPLM sample 3</th>    </tr>  </thead>  <tbody>    <tr>      <td></td>      <td>A couple weeks ago, I saw the trailer to</td>      <td>The Best Of The Last<span style=\"color: red\"> How</span> To<span style=\"color: red\"> How</span> To Create</td>      <td>In a stunning display of<span style=\"color: red\"> how</span> little we know about</td>      <td>In a stunning display of<span style=\"color: red\"> how</span> little we know about</td>    </tr>  </tbody></table>'\n",
    "display(HTML(ex_3_1_a_1))"
   ]
  },
  {
   "cell_type": "code",
   "execution_count": 13,
   "id": "69c04c95",
   "metadata": {},
   "outputs": [
    {
     "name": "stdout",
     "output_type": "stream",
     "text": [
      "= Prefix of sentence =\n",
      "<|endoftext|>What\n",
      "\n",
      "= Unperturbed generated text =\n",
      "<|endoftext|>What's New In v1.6:\n",
      "\n",
      "\n",
      "\n",
      "= Perturbed generated text 1 =\n",
      "<|endoftext|>What is the meaning of 'Hang the dog?'\n",
      "\n",
      "= Perturbed generated text 2 =\n",
      "<|endoftext|>What you'll need to make a\u001b[31m?\u001b[0m\n",
      "\n",
      "?\n",
      "\n",
      "= Perturbed generated text 3 =\n",
      "<|endoftext|>What's more, they don't seem to have any\n",
      "\n",
      "= Perturbed generated text 4 =\n",
      "<|endoftext|>What do the numbers in the middle of these\u001b[31m?\u001b[0m\n",
      "\n",
      "\n",
      "= Perturbed generated text 5 =\n",
      "<|endoftext|>What do you think is the best part about this game\n",
      "\n",
      "= Perturbed generated text 6 =\n",
      "<|endoftext|>What is the best way to handle the different\u001b[31m?\u001b[0m\u001b[31m?\u001b[0m\n",
      "\n",
      "= Perturbed generated text 7 =\n",
      "<|endoftext|>What's the best way to start a discussion?\n",
      "\n",
      "\n",
      "= Perturbed generated text 8 =\n",
      "<|endoftext|>What's your take\u001b[31m?\u001b[0m!\n",
      "\n",
      "I'm a\n",
      "\n",
      "= Perturbed generated text 9 =\n",
      "<|endoftext|>What are the chances of winning\u001b[31m?\u001b[0m\n",
      "\n",
      "There are\n",
      "\n",
      "= Perturbed generated text 10 =\n",
      "<|endoftext|>What's more, there are now 3rd level of\n",
      "\n"
     ]
    }
   ],
   "source": [
    "_ =run_pplm_example(\n",
    "    cond_text=\"What\",\n",
    "    num_samples=10,\n",
    "    bag_of_words='question_mark',\n",
    "    length=10,\n",
    "    stepsize=0.06,\n",
    "    sample=True,\n",
    "    num_iterations=3,\n",
    "    window_length=5,\n",
    "    gamma=1.5,\n",
    "    gm_scale=0.65,\n",
    "    kl_scale=0.05,\n",
    "    colorama = True,\n",
    "    verbosity='quiet'\n",
    ")"
   ]
  },
  {
   "cell_type": "code",
   "execution_count": 14,
   "id": "b3d6ee85",
   "metadata": {},
   "outputs": [
    {
     "data": {
      "text/html": [
       "<table border=\"1\" class=\"dataframe\">  <thead>    <tr style=\"text-align: right;\">      <th>prompt</th>      <th>without PPLM</th>      <th>PPLM sample 1</th>      <th>PPLM sample 2</th>      <th>PPLM sample 3</th>    </tr>  </thead>  <tbody>    <tr>      <td>What</td>      <td>What's New In v1.6:<br/><br/></td>      <td>What is the meaning of 'Hang the dog<span style=\"color: red\"> ?</span>'</td>      <td>What do you think is the best part about this game</td>      <td>What are the chances of winning<span style=\"color: red\"> ?</span><br/><br/>There are</td>    </tr>  </tbody></table>"
      ],
      "text/plain": [
       "<IPython.core.display.HTML object>"
      ]
     },
     "metadata": {},
     "output_type": "display_data"
    }
   ],
   "source": [
    "## 3.1.a.2_good \n",
    "ex_3_1_a_2_good = '<table border=\"1\" class=\"dataframe\">  <thead>    <tr style=\"text-align: right;\">      <th>prompt</th>      <th>without PPLM</th>      <th>PPLM sample 1</th>      <th>PPLM sample 2</th>      <th>PPLM sample 3</th>    </tr>  </thead>  <tbody>    <tr>      <td>What</td>      <td>What\\'s New In v1.6:<br/><br/></td>      <td>What is the meaning of \\'Hang the dog<span style=\"color: red\"> ?</span>\\'</td>      <td>What do you think is the best part about this game</td>      <td>What are the chances of winning<span style=\"color: red\"> ?</span><br/><br/>There are</td>    </tr>  </tbody></table>'\n",
    "display(HTML(ex_3_1_a_2_good))\n"
   ]
  },
  {
   "cell_type": "code",
   "execution_count": 15,
   "id": "792ef7c2",
   "metadata": {},
   "outputs": [
    {
     "data": {
      "text/html": [
       "<table border=\"1\" class=\"dataframe\">  <thead>    <tr style=\"text-align: right;\">      <th>prompt</th>      <th>without PPLM</th>      <th>PPLM sample 1</th>      <th>PPLM sample 2</th>      <th>PPLM sample 3</th>    </tr>  </thead>  <tbody>    <tr>      <td>What</td>      <td>What's New In v1.6:<br/><br/></td>      <td>What you'll need to make a<span style=\"color: red\"> ?</span><br/><br/><span style=\"color: red\"> ?</span></td>      <td>What's more, they don't seem to have any</td>      <td>What do the numbers in the middle of these<span style=\"color: red\"> ?</span><br/></td>    </tr>  </tbody></table>"
      ],
      "text/plain": [
       "<IPython.core.display.HTML object>"
      ]
     },
     "metadata": {},
     "output_type": "display_data"
    }
   ],
   "source": [
    "## 3.1.a.2_bad \n",
    "ex_3_1_a_2_bad = '<table border=\"1\" class=\"dataframe\">  <thead>    <tr style=\"text-align: right;\">      <th>prompt</th>      <th>without PPLM</th>      <th>PPLM sample 1</th>      <th>PPLM sample 2</th>      <th>PPLM sample 3</th>    </tr>  </thead>  <tbody>    <tr>      <td>What</td>      <td>What\\'s New In v1.6:<br/><br/></td>      <td>What you\\'ll need to make a<span style=\"color: red\"> ?</span><br/><br/><span style=\"color: red\"> ?</span></td>      <td>What\\'s more, they don\\'t seem to have any</td>      <td>What do the numbers in the middle of these<span style=\"color: red\"> ?</span><br/></td>    </tr>  </tbody></table>'\n",
    "display(HTML(ex_3_1_a_2_bad))"
   ]
  },
  {
   "cell_type": "markdown",
   "id": "4953f9cc",
   "metadata": {},
   "source": [
    "# Experiment 3.1.b"
   ]
  },
  {
   "cell_type": "code",
   "execution_count": 16,
   "id": "c37ebd78",
   "metadata": {},
   "outputs": [
    {
     "name": "stdout",
     "output_type": "stream",
     "text": [
      "= Prefix of sentence =\n",
      "<|endoftext|>\n",
      "\n",
      "= Unperturbed generated text =\n",
      "<|endoftext|>A couple weeks ago, I saw the trailer to Star Wars: The Last Jedi and thought it might be a nice idea to write a review about what it might be about for Star Wars. I'm not the only one who was thinking about it,\n",
      "\n",
      "= Perturbed generated text 1 =\n",
      "<|endoftext|>If you can't get your head around what's happening, then your brain isn't fully functioning.\n",
      "\n",
      "This is not a bad thing; there's a big difference between not being able to see and being able to feel. But the reason for\n",
      "\n",
      "= Perturbed generated text 2 =\n",
      "<|endoftext|>A group that advocates for the legalization of marijuana in Washington and Colorado have been invited to attend the state-level meeting that\u001b[31m features\u001b[0m representatives from the marijuana industry, which includes a variety of companies.\n",
      "\n",
      "Representatives from the Washington State Liquor Control Board\n",
      "\n",
      "= Perturbed generated text 3 =\n",
      "<|endoftext|>A new report released by the International Business Times (IBT) suggests that the world's wealthiest individuals are planning on investing more in real estate than ever before. The report, called \"The Real Estate Bubble of 2013,\" is based on data from the\n",
      "\n",
      "= Perturbed generated text 4 =\n",
      "<|endoftext|>What is a 'Branch'\n",
      "\n",
      "A branch is a collection of operations that all have the same effect, but each one has the unique\u001b[31m attribute\u001b[0m called the type.\n",
      "\n",
      "An operation has its\u001b[31m attribute\u001b[0m name, its type\u001b[31m attribute\u001b[0m (if any),\n",
      "\n",
      "= Perturbed generated text 5 =\n",
      "<|endoftext|>The latest version of the app can also be used with other apps to make custom searches and\u001b[31m features\u001b[0m.\n",
      "\n",
      "If you would like to see\u001b[31m features\u001b[0m or\u001b[31m feature\u001b[0m\u001b[31m features\u001b[0m in the future of the app, please consider making a\u001b[31m feature\u001b[0m\u001b[31m feature\u001b[0m request at\u001b[31m feature\u001b[0m\u001b[31m feature\u001b[0m\u001b[31m feature\u001b[0m\n",
      "\n",
      "= Perturbed generated text 6 =\n",
      "<|endoftext|>A man who has a penchant for wearing the clothes of women is one of the first things to come to mind when thinking of male-driven tech. The idea for this\u001b[31m feature\u001b[0m is that men who want to take part in the future of technology should be\n",
      "\n",
      "= Perturbed generated text 7 =\n",
      "<|endoftext|>The \"I'm sorry\" response is usually used to apologize to an employee or client after an unexpected error.\n",
      "\n",
      "For example \"I'm sorry that we had to remove the\u001b[31m feature\u001b[0m\u001b[31m feature\u001b[0m that you requested\" or \"I want to make an exception\n",
      "\n",
      "= Perturbed generated text 8 =\n",
      "<|endoftext|>This section has been removed from the official game.\n",
      "\n",
      "This section has been removed from the official game.\n",
      "\n",
      "This section has been added for the original release on PC.\n",
      "\n",
      "Contents show]\n",
      "\n",
      "Gameplay Edit\n",
      "\n",
      "The game\u001b[31m features\u001b[0m\n",
      "\n",
      "= Perturbed generated text 9 =\n",
      "<|endoftext|>We've all heard stories of people who've gone out with an attractive partner, who've done some amazing things in their relationships, who can help their partners with various needs, and who\u001b[31m feature\u001b[0m prominently on the home page of our website. We\u001b[31m feature\u001b[0m a\n",
      "\n",
      "= Perturbed generated text 10 =\n",
      "<|endoftext|>A lot has happened since we last covered the development of the new system. We've added new\u001b[31m features\u001b[0m to the system, improved performance, and we've made improvements in some areas. We've also made some\u001b[31m features\u001b[0m available in beta\u001b[31m features\u001b[0m and\u001b[31m feature\u001b[0m\u001b[31m features\u001b[0m.\n",
      "\n"
     ]
    }
   ],
   "source": [
    "_ =run_pplm_example(\n",
    "    cond_text=\"\",\n",
    "    num_samples=10,\n",
    "    bag_of_words='machine',\n",
    "    length=50,\n",
    "    stepsize=0.04,\n",
    "    sample=True,\n",
    "    num_iterations=3,\n",
    "    window_length=5,\n",
    "    gamma=1.5,\n",
    "    gm_scale=0.65,\n",
    "    kl_scale=0.05,\n",
    "    colorama = True,\n",
    "    verbosity='quiet'\n",
    ")"
   ]
  },
  {
   "cell_type": "code",
   "execution_count": 17,
   "id": "8f82d06f",
   "metadata": {},
   "outputs": [
    {
     "data": {
      "text/html": [
       "<table border=\"1\" class=\"dataframe\">  <thead>    <tr style=\"text-align: right;\">      <th>prompt</th>      <th>without PPLM</th>      <th>PPLM sample 1</th>    </tr>  </thead>  <tbody>    <tr>      <td></td>      <td>A couple weeks ago, I saw the trailer to Star Wars: The Last Jedi and thought it might be a nice idea to write a review about what it might be about for Star Wars. I'm not the only one who was thinking about it,</td>      <td>What is a 'Branch'<br/><br/>A branch is a collection of operations that all have the same effect, but each one has the unique<span style=\"color: red\"> attribute</span> called the type.<br/><br/>An operation has its<span style=\"color: red\"> attribute</span> name, its type<span style=\"color: red\"> attribute</span> (if any),</td>    </tr>  </tbody></table>"
      ],
      "text/plain": [
       "<IPython.core.display.HTML object>"
      ]
     },
     "metadata": {},
     "output_type": "display_data"
    }
   ],
   "source": [
    "## 3_1_b_1_good\n",
    "ex_3_1_b_1_good = '<table border=\"1\" class=\"dataframe\">  <thead>    <tr style=\"text-align: right;\">      <th>prompt</th>      <th>without PPLM</th>      <th>PPLM sample 1</th>    </tr>  </thead>  <tbody>    <tr>      <td></td>      <td>A couple weeks ago, I saw the trailer to Star Wars: The Last Jedi and thought it might be a nice idea to write a review about what it might be about for Star Wars. I\\'m not the only one who was thinking about it,</td>      <td>What is a \\'Branch\\'<br/><br/>A branch is a collection of operations that all have the same effect, but each one has the unique<span style=\"color: red\"> attribute</span> called the type.<br/><br/>An operation has its<span style=\"color: red\"> attribute</span> name, its type<span style=\"color: red\"> attribute</span> (if any),</td>    </tr>  </tbody></table>'\n",
    "display(HTML(ex_3_1_b_1_good))\n"
   ]
  },
  {
   "cell_type": "code",
   "execution_count": 18,
   "id": "5bcf7966",
   "metadata": {},
   "outputs": [
    {
     "data": {
      "text/html": [
       "<table border=\"1\" class=\"dataframe\">  <thead>    <tr style=\"text-align: right;\">      <th>prompt</th>      <th>without PPLM</th>      <th>PPLM sample 1</th>      <th>PPLM sample 2</th>      <th>PPLM sample 3</th>    </tr>  </thead>  <tbody>    <tr>      <td></td>      <td>A couple weeks ago, I saw the trailer to Star Wars: The Last Jedi and thought it might be a nice idea to write a review about what it might be about for Star Wars. I'm not the only one who was thinking about it,</td>      <td>A group that advocates for the legalization of marijuana in Washington and Colorado have been invited to attend the state-level meeting that<span style=\"color: red\"> features</span> representatives from the marijuana industry, which includes a variety of companies.<br/><br/>Representatives from the Washington State Liquor Control Board</td>      <td>A man who has a penchant for wearing the clothes of women is one of the first things to come to mind when thinking of male-driven tech. The idea for this<span style=\"color: red\"> feature</span> is that men who want to take part in the future of technology should be</td>      <td>We've all heard stories of people who've gone out with an attractive partner, who've done some amazing things in their relationships, who can help their partners with various needs, and who<span style=\"color: red\"> feature</span> prominently on the home page of our website. We<span style=\"color: red\"> feature</span> a</td>    </tr>  </tbody></table>"
      ],
      "text/plain": [
       "<IPython.core.display.HTML object>"
      ]
     },
     "metadata": {},
     "output_type": "display_data"
    }
   ],
   "source": [
    "## 3_1_b_1_bad\n",
    "ex_3_1_b_1_bad = '<table border=\"1\" class=\"dataframe\">  <thead>    <tr style=\"text-align: right;\">      <th>prompt</th>      <th>without PPLM</th>      <th>PPLM sample 1</th>      <th>PPLM sample 2</th>      <th>PPLM sample 3</th>    </tr>  </thead>  <tbody>    <tr>      <td></td>      <td>A couple weeks ago, I saw the trailer to Star Wars: The Last Jedi and thought it might be a nice idea to write a review about what it might be about for Star Wars. I\\'m not the only one who was thinking about it,</td>      <td>A group that advocates for the legalization of marijuana in Washington and Colorado have been invited to attend the state-level meeting that<span style=\"color: red\"> features</span> representatives from the marijuana industry, which includes a variety of companies.<br/><br/>Representatives from the Washington State Liquor Control Board</td>      <td>A man who has a penchant for wearing the clothes of women is one of the first things to come to mind when thinking of male-driven tech. The idea for this<span style=\"color: red\"> feature</span> is that men who want to take part in the future of technology should be</td>      <td>We\\'ve all heard stories of people who\\'ve gone out with an attractive partner, who\\'ve done some amazing things in their relationships, who can help their partners with various needs, and who<span style=\"color: red\"> feature</span> prominently on the home page of our website. We<span style=\"color: red\"> feature</span> a</td>    </tr>  </tbody></table>'\n",
    "display(HTML(ex_3_1_b_1_bad))"
   ]
  },
  {
   "cell_type": "code",
   "execution_count": 4,
   "id": "86c8cc1a",
   "metadata": {},
   "outputs": [
    {
     "name": "stdout",
     "output_type": "stream",
     "text": [
      "= Prefix of sentence =\n",
      "<|endoftext|>The model was trained on the Iris dataset.\n",
      "\n",
      "= Unperturbed generated text =\n",
      "<|endoftext|>The model was trained on the Iris dataset. The neural networks used include recurrent neural networks, recurrent neural nets, and convolutional networks. This paper shows how to train a classifier for each of these networks. In addition, it introduces the new features that can be applied to these networks.\n",
      "\n",
      "= Perturbed generated text 1 =\n",
      "<|endoftext|>The model was trained on the Iris\u001b[31m dataset\u001b[0m. It also trained on three datasets: two of them used only the Iris\u001b[31m dataset\u001b[0m and three more that had Iris data from a range of other sources (e.g., the University of Chicago's National Institute of General Medical Sciences\u001b[31m dataset\u001b[0m, the European Photov\n",
      "\n",
      "= Perturbed generated text 2 =\n",
      "<|endoftext|>The model was trained on the Iris\u001b[31m dataset\u001b[0m. A model that was trained using the Iris\u001b[31m dataset\u001b[0m was then trained on the model trained on the\u001b[31m dataset\u001b[0m. This allows the user to compare the accuracy of the model with the accuracy of the trained model.\n",
      "\n",
      "The model was trained on the Iris\u001b[31m dataset\u001b[0m.\n",
      "\n",
      "= Perturbed generated text 3 =\n",
      "<|endoftext|>The model was trained on the Iris\u001b[31m dataset\u001b[0m.\n",
      "\n",
      "This project is a collaborative research effort between the Open Data Lab at the University of Chicago and the Open Data Project at MIT. The\u001b[31m dataset\u001b[0m is freely available in the Iris Project (http://iris.lib.uchicago.edu/downloads\n",
      "\n",
      "= Perturbed generated text 4 =\n",
      "<|endoftext|>The model was trained on the Iris\u001b[31m dataset\u001b[0m. The results show that the model was able to\u001b[31m classify\u001b[0m images at a rate of 3.1 per thousand. This is a much higher rate than many other image classification methods, especially for the more sparse images.\n",
      "\n",
      "This model does not require any training\n",
      "\n",
      "= Perturbed generated text 5 =\n",
      "<|endoftext|>The model was trained on the Iris\u001b[31m dataset\u001b[0m. It was fed with the training and testing datasets, and was tested to make sure that its predictions match with the results of the real world. This model is used in some of the models we use in the project to help make sure our software works as\n",
      "\n",
      "= Perturbed generated text 6 =\n",
      "<|endoftext|>The model was trained on the Iris\u001b[31m dataset\u001b[0m. The training set of the model consisted of the following items:\n",
      "\n",
      "A model for detecting and predicting face\u001b[31m features\u001b[0m from a photograph of a woman wearing a hat. The model included six\u001b[31m features\u001b[0m (i.e., nose, mouth, eyes, ears,\n",
      "\n",
      "= Perturbed generated text 7 =\n",
      "<|endoftext|>The model was trained on the Iris\u001b[31m dataset\u001b[0m. The model was trained using the following training data from the Iris\u001b[31m dataset\u001b[0m (N = 468, total number of observations: 5,742: 0.00%):\n",
      "\n",
      "Training parameters\n",
      "\n",
      "The training data was used to train two different models\n",
      "\n",
      "= Perturbed generated text 8 =\n",
      "<|endoftext|>The model was trained on the Iris\u001b[31m dataset\u001b[0m. In addition to the Iris\u001b[31m dataset\u001b[0m, this is also the\u001b[31m dataset\u001b[0m for which our model has an excellent fit. We have also trained the model on the Iris\u001b[31m dataset\u001b[0m, with similar parameters but with a slightly different\u001b[31m feature\u001b[0m set. The model achieves a significant improvement,\n",
      "\n",
      "= Perturbed generated text 9 =\n",
      "<|endoftext|>The model was trained on the Iris\u001b[31m dataset\u001b[0m. This\u001b[31m dataset\u001b[0m includes images of the human face from a collection of images collected by the Iris Research Facility from around Europe in the 1990s.\n",
      "\n",
      "The face was then trained to produce three different facial shapes (two with a flat top and a rounded one\n",
      "\n",
      "= Perturbed generated text 10 =\n",
      "<|endoftext|>The model was trained on the Iris\u001b[31m dataset\u001b[0m. In this training, the model was trained on the Iris\u001b[31m dataset\u001b[0m using the following\u001b[31m features\u001b[0m:\n",
      "\n",
      "The number of points in the image\n",
      "\n",
      "The color of the face (green, blue or black)\n",
      "\n",
      "Whether the eyes were closed (yes or\n",
      "\n"
     ]
    }
   ],
   "source": [
    "#stepsize= 0 => no BoW is used\n",
    "_ = run_pplm_example(\n",
    "    cond_text=\"The model was trained on the Iris dataset.\",\n",
    "    num_samples=10,\n",
    "    bag_of_words='machine',\n",
    "    length=50,\n",
    "    stepsize=0.0,\n",
    "    sample=True,\n",
    "    num_iterations=3,\n",
    "    window_length=5,\n",
    "    gamma=1.5,\n",
    "    gm_scale=0.65,\n",
    "    kl_scale=0.05,\n",
    "    colorama = True,\n",
    "    verbosity='quiet'\n",
    ")"
   ]
  },
  {
   "cell_type": "code",
   "execution_count": 49,
   "id": "3ad79159",
   "metadata": {},
   "outputs": [
    {
     "data": {
      "text/html": [
       "<table border=\"1\" class=\"dataframe\">  <thead>    <tr style=\"text-align: right;\">      <th>prompt</th>      <th>without PPLM</th>      <th>PPLM sample 1</th>      <th>PPLM sample 2</th>      <th>PPLM sample 3</th>    </tr>  </thead>  <tbody>    <tr>      <td>The model was trained on the Iris dataset.</td>      <td>The model was trained on the Iris<span style=\"color: red\"> dataset</span>. The neural networks used include recurrent neural networks, sparse neural networks, and convolutional networks. This paper shows how to train a classifier for each of these networks. In addition, it introduces the new<span style=\"color: red\"> features</span> that can be applied to these networks.</td>      <td>The model was trained on the Iris<span style=\"color: red\"> dataset</span>. A model that was trained using the Iris<span style=\"color: red\"> dataset</span> was then trained on the model trained on the<span style=\"color: red\"> dataset</span>. This allows the user to compare the accuracy of the model with the accuracy of the trained model.<br/><br/>The model was trained on the Iris<span style=\"color: red\"> dataset</span>.</td>      <td>The model was trained on the Iris<span style=\"color: red\"> dataset</span>. The results show that the model was able to<span style=\"color: red\"> classify</span> images at a rate of 3.1 per thousand. This is a much higher rate than many other image classification methods, especially for the more sparse images.<br/><br/>This model does not require any training</td>      <td>The model was trained on the Iris<span style=\"color: red\"> dataset</span>. The model was trained using the following training data from the Iris<span style=\"color: red\"> dataset</span> (N = 468, total number of observations: 5,742: 0.00%):<br/><br/>Training parameters<br/><br/>The training data was used to train two different models</td>    </tr>  </tbody></table>"
      ],
      "text/plain": [
       "<IPython.core.display.HTML object>"
      ]
     },
     "metadata": {},
     "output_type": "display_data"
    }
   ],
   "source": [
    "## 3_1_b_2_good\n",
    "ex_3_1_b_2_good = '<table border=\"1\" class=\"dataframe\">  <thead>    <tr style=\"text-align: right;\">      <th>prompt</th>      <th>without PPLM</th>      <th>PPLM sample 1</th>      <th>PPLM sample 2</th>      <th>PPLM sample 3</th>    </tr>  </thead>  <tbody>    <tr>      <td>The model was trained on the Iris dataset.</td>      <td>The model was trained on the Iris<span style=\"color: red\"> dataset</span>. The neural networks used include recurrent neural networks, sparse neural networks, and convolutional networks. This paper shows how to train a classifier for each of these networks. In addition, it introduces the new<span style=\"color: red\"> features</span> that can be applied to these networks.</td>      <td>The model was trained on the Iris<span style=\"color: red\"> dataset</span>. A model that was trained using the Iris<span style=\"color: red\"> dataset</span> was then trained on the model trained on the<span style=\"color: red\"> dataset</span>. This allows the user to compare the accuracy of the model with the accuracy of the trained model.<br/><br/>The model was trained on the Iris<span style=\"color: red\"> dataset</span>.</td>      <td>The model was trained on the Iris<span style=\"color: red\"> dataset</span>. The results show that the model was able to<span style=\"color: red\"> classify</span> images at a rate of 3.1 per thousand. This is a much higher rate than many other image classification methods, especially for the more sparse images.<br/><br/>This model does not require any training</td>      <td>The model was trained on the Iris<span style=\"color: red\"> dataset</span>. The model was trained using the following training data from the Iris<span style=\"color: red\"> dataset</span> (N = 468, total number of observations: 5,742: 0.00%):<br/><br/>Training parameters<br/><br/>The training data was used to train two different models</td>    </tr>  </tbody></table>'\n",
    "display(HTML(ex_3_1_b_2_good))\n"
   ]
  },
  {
   "cell_type": "code",
   "execution_count": 21,
   "id": "40922e98",
   "metadata": {},
   "outputs": [
    {
     "data": {
      "text/html": [
       "<table border=\"1\" class=\"dataframe\">  <thead>    <tr style=\"text-align: right;\">      <th>prompt</th>      <th>without PPLM</th>      <th>PPLM sample 1</th>      <th>PPLM sample 2</th>    </tr>  </thead>  <tbody>    <tr>      <td>The model was trained on the Iris dataset.</td>      <td>The model was trained on the Iris<span style=\"color: red\"> dataset</span>. The neural networks used include recurrent neural networks, recurrent neural nets, and convolutional networks. This paper shows how to train a classifier for each of these networks. In addition, it introduces the new<span style=\"color: red\"> features</span> that can be applied to these networks.</td>      <td>The model was trained on the Iris<span style=\"color: red\"> dataset</span>. It also trained on three datasets: two of them used only the Iris<span style=\"color: red\"> dataset</span> and three more datasets. The data is sorted by<span style=\"color: red\"> features</span> in the data set:<span style=\"color: red\"> feature</span> set of the training set,<span style=\"color: red\"> feature</span> set of<span style=\"color: red\"> feature</span> model of<span style=\"color: red\"> dataset</span>, and<span style=\"color: red\"> feature</span><span style=\"color: red\"> feature</span> set</td>      <td>The model was trained on the Iris<span style=\"color: red\"> dataset</span>.<br/><br/>This model was trained on the Iris<span style=\"color: red\"> dataset</span>.<br/><br/>It trained on a<span style=\"color: red\"> dataset</span> of 1m-3m images with an average pixel count of 1 pixel (1 pixel per pixel).<br/><br/>It was also trained with a<span style=\"color: red\"> dataset</span> of 10</td>    </tr>  </tbody></table>"
      ],
      "text/plain": [
       "<IPython.core.display.HTML object>"
      ]
     },
     "metadata": {},
     "output_type": "display_data"
    }
   ],
   "source": [
    "## 3_1_b_2_bad \n",
    "ex_3_1_b_2_bad = '<table border=\"1\" class=\"dataframe\">  <thead>    <tr style=\"text-align: right;\">      <th>prompt</th>      <th>without PPLM</th>      <th>PPLM sample 1</th>      <th>PPLM sample 2</th>      <th>PPLM sample 3</th>    </tr>  </thead>  <tbody>    <tr>      <td>The model was trained on the Iris dataset.</td>      <td>The model was trained on the Iris<span style=\"color: red\"> dataset</span>. The neural networks used include recurrent neural networks, sparse neural networks, and convolutional networks. This paper shows how to train a classifier for each of these networks. In addition, it introduces the new<span style=\"color: red\"> features</span> that can be applied to these networks.</td>      <td>The model was trained on the Iris<span style=\"color: red\"> dataset</span>. The training set of the model consisted of the following items:<br/><br/>A model for detecting and predicting face<span style=\"color: red\"> features</span> from a photograph of a woman wearing a hat. The model included six<span style=\"color: red\"> features</span> (i.e., nose, mouth, eyes, ears,</td>      <td>The model was trained on the Iris<span style=\"color: red\"> dataset</span>. It also trained on three datasets: two of them used only the Iris<span style=\"color: red\"> dataset</span> and three more that had Iris data from a range of other sources (e.g., the University of Chicago\\'s National Institute of General Medical Sciences<span style=\"color: red\"> dataset</span>, the European Photov</td>      <td>The model was trained on the Iris<span style=\"color: red\"> dataset</span>. This<span style=\"color: red\"> dataset</span> includes images of the human face from a collection of images collected by the Iris Research Facility from around Europe in the 1990s.<br/><br/>The face was then trained to produce three different facial shapes (two with a flat top and a rounded one</td>    </tr>  </tbody></table>'\n",
    "display(HTML(ex_3_1_b_2_bad))"
   ]
  },
  {
   "cell_type": "markdown",
   "id": "08e53a47",
   "metadata": {},
   "source": [
    "# Experiment 3.1.c"
   ]
  },
  {
   "cell_type": "code",
   "execution_count": 22,
   "id": "b70f1130",
   "metadata": {},
   "outputs": [
    {
     "name": "stdout",
     "output_type": "stream",
     "text": [
      "= Prefix of sentence =\n",
      "<|endoftext|>How\n",
      "\n",
      "= Unperturbed generated text =\n",
      "<|endoftext|>How do you keep your hands clean?\n",
      "\n",
      "We've got you covered.\n",
      "\n",
      "We know it\n",
      "\n",
      "= Perturbed generated text 1 =\n",
      "<|endoftext|>How much do you need to earn to earn\u001b[31m?\u001b[0m\n",
      "\n",
      "1 $1, 000 in\u001b[31m?\u001b[0m\n",
      "\n",
      "\n",
      "\n",
      "= Perturbed generated text 2 =\n",
      "<|endoftext|>How do the numbers in the middle section compare with each other?\n",
      "\n",
      "How can I get a better\n",
      "\n",
      "= Perturbed generated text 3 =\n",
      "<|endoftext|>How do we get to an end?\n",
      "\n",
      "There are two ways. The first is to use a\n",
      "\n",
      "= Perturbed generated text 4 =\n",
      "<|endoftext|>How to get to the polls\n",
      "\n",
      "You can either vote by mail or at the polling station. You\n",
      "\n",
      "= Perturbed generated text 5 =\n",
      "<|endoftext|>How To Make It\n",
      "\n",
      "Step 1 Preheat the oven to 350°.\n",
      "\n",
      "Step 2 Place\n",
      "\n",
      "= Perturbed generated text 6 =\n",
      "<|endoftext|>How much will the new\u001b[31m features\u001b[0m cost?\n",
      "\n",
      "The new\u001b[31m feature\u001b[0m will add support for the new\u001b[31m features\u001b[0m in\n",
      "\n",
      "= Perturbed generated text 7 =\n",
      "<|endoftext|>How to use\n",
      "\n",
      "To use this library use your favorite editor and type:\n",
      "\n",
      "$ python example\n",
      "\n",
      "= Perturbed generated text 8 =\n",
      "<|endoftext|>How many days to prepare\u001b[31m?\u001b[0m\n",
      "\n",
      "We recommend you check with your supplier before purchase. If you want\n",
      "\n",
      "= Perturbed generated text 9 =\n",
      "<|endoftext|>How the Trump administration's travel ban is going to play out\n",
      "\n",
      "The Trump administration's new travel ban\n",
      "\n",
      "= Perturbed generated text 10 =\n",
      "<|endoftext|>How to Use?\n",
      "\n",
      "Use this form for any kind of data collection or analysis on any kind of\n",
      "\n"
     ]
    }
   ],
   "source": [
    "_ =run_pplm_example(\n",
    "    cond_text=\"How\",\n",
    "    num_samples=10,\n",
    "    bag_of_words='machine;question_mark',\n",
    "    length=20,\n",
    "    stepsize=0.06,\n",
    "    sample=True,\n",
    "    num_iterations=3,\n",
    "    window_length=5,\n",
    "    gamma=1.5,\n",
    "    gm_scale=0.65,\n",
    "    kl_scale=0.05,\n",
    "    colorama = True,\n",
    "    verbosity='quiet'\n",
    ")"
   ]
  },
  {
   "cell_type": "code",
   "execution_count": 23,
   "id": "f4f68a7e",
   "metadata": {},
   "outputs": [
    {
     "data": {
      "text/html": [
       "<table border=\"1\" class=\"dataframe\">  <thead>    <tr style=\"text-align: right;\">      <th>prompt</th>      <th>without PPLM</th>      <th>PPLM sample 1</th>      <th>PPLM sample 2</th>    </tr>  </thead>  <tbody>    <tr>      <td>How</td>      <td>How do you keep your hands clean?<br/><br/>We've got you covered.<br/><br/>We know it</td>      <td>How to use<br/><br/>To use this library use your favorite editor and type:<br/><br/>$ python example</td>      <td>How to Use?<br/><br/>Use this form for any kind of data collection or analysis on any kind of</td>    </tr>  </tbody></table>"
      ],
      "text/plain": [
       "<IPython.core.display.HTML object>"
      ]
     },
     "metadata": {},
     "output_type": "display_data"
    }
   ],
   "source": [
    "## 3_1_c_1_good\n",
    "ex_3_1_c_1_good = '<table border=\"1\" class=\"dataframe\">  <thead>    <tr style=\"text-align: right;\">      <th>prompt</th>      <th>without PPLM</th>      <th>PPLM sample 1</th>      <th>PPLM sample 2</th>    </tr>  </thead>  <tbody>    <tr>      <td>How</td>      <td>How do you keep your hands clean?<br/><br/>We\\'ve got you covered.<br/><br/>We know it</td>      <td>How to use<br/><br/>To use this library use your favorite editor and type:<br/><br/>$ python example</td>      <td>How to Use?<br/><br/>Use this form for any kind of data collection or analysis on any kind of</td>    </tr>  </tbody></table>'\n",
    "display(HTML(ex_3_1_c_1_good))\n"
   ]
  },
  {
   "cell_type": "code",
   "execution_count": 24,
   "id": "e5c78774",
   "metadata": {},
   "outputs": [
    {
     "data": {
      "text/html": [
       "<table border=\"1\" class=\"dataframe\">  <thead>    <tr style=\"text-align: right;\">      <th>prompt</th>      <th>without PPLM</th>      <th>PPLM sample 1</th>      <th>PPLM sample 2</th>      <th>PPLM sample 3</th>    </tr>  </thead>  <tbody>    <tr>      <td>How</td>      <td>How do you keep your hands clean?<br/><br/>We've got you covered.<br/><br/>We know it</td>      <td>How much do you need to earn to earn?<br/><br/>1 $1, 000 in?<br/><br/></td>      <td>How do the numbers in the middle section compare with each other?<br/><br/>How can I get a better</td>      <td>How To Make It<br/><br/>Step 1 Preheat the oven to 350°.<br/><br/>Step 2 Place</td>    </tr>  </tbody></table>"
      ],
      "text/plain": [
       "<IPython.core.display.HTML object>"
      ]
     },
     "metadata": {},
     "output_type": "display_data"
    }
   ],
   "source": [
    "\n",
    "## 3_1_c_1_bad\n",
    "ex_3_1_c_1_bad = '<table border=\"1\" class=\"dataframe\">  <thead>    <tr style=\"text-align: right;\">      <th>prompt</th>      <th>without PPLM</th>      <th>PPLM sample 1</th>      <th>PPLM sample 2</th>      <th>PPLM sample 3</th>    </tr>  </thead>  <tbody>    <tr>      <td>How</td>      <td>How do you keep your hands clean?<br/><br/>We\\'ve got you covered.<br/><br/>We know it</td>      <td>How much do you need to earn to earn?<br/><br/>1 $1, 000 in?<br/><br/></td>      <td>How do the numbers in the middle section compare with each other?<br/><br/>How can I get a better</td>      <td>How To Make It<br/><br/>Step 1 Preheat the oven to 350°.<br/><br/>Step 2 Place</td>    </tr>  </tbody></table>'\n",
    "display(HTML(ex_3_1_c_1_bad))"
   ]
  },
  {
   "cell_type": "code",
   "execution_count": 3,
   "id": "8986a948",
   "metadata": {},
   "outputs": [
    {
     "name": "stdout",
     "output_type": "stream",
     "text": [
      "= Prefix of sentence =\n",
      "<|endoftext|>The model was trained on the iris dataset. How\n",
      "\n",
      "= Unperturbed generated text =\n",
      "<|endoftext|>The model was trained on the iris dataset. How well is her model working?\n",
      "\n",
      "There are several factors that can cause her to make mistakes in\n",
      "\n",
      "= Perturbed generated text 1 =\n",
      "<|endoftext|>The model was trained on the iris\u001b[31m dataset\u001b[0m. How well did the model learn?\n",
      "\n",
      "We used a training set of 20 000 images.\n",
      "\n",
      "\n",
      "\n",
      "= Perturbed generated text 2 =\n",
      "<|endoftext|>The model was trained on the iris\u001b[31m dataset\u001b[0m. How do the images in the model differ?\n",
      "\n",
      "The model trained from the data was trained on the\n",
      "\n",
      "= Perturbed generated text 3 =\n",
      "<|endoftext|>The model was trained on the iris\u001b[31m dataset\u001b[0m. How it works The model uses neural network to identify the iris colour patterns. The training data The model\n",
      "\n",
      "= Perturbed generated text 4 =\n",
      "<|endoftext|>The model was trained on the iris\u001b[31m dataset\u001b[0m. How the eye pattern of the trained model was used for the image classification?\n",
      "\n",
      "Yes, the eye\n",
      "\n",
      "= Perturbed generated text 5 =\n",
      "<|endoftext|>The model was trained on the iris\u001b[31m dataset\u001b[0m. How did the model do?\n",
      "\n",
      "It was trained for 1 min and the average error was 0.\n",
      "\n",
      "= Perturbed generated text 6 =\n",
      "<|endoftext|>The model was trained on the iris\u001b[31m dataset\u001b[0m. How much the model is able to learn about the iris\u001b[31m dataset\u001b[0m will depend on whether the model is a\n",
      "\n",
      "= Perturbed generated text 7 =\n",
      "<|endoftext|>The model was trained on the iris\u001b[31m dataset\u001b[0m. How to train a model?\n",
      "\n",
      "A model is a computer program that takes a\u001b[31m dataset\u001b[0m as input,\n",
      "\n",
      "= Perturbed generated text 8 =\n",
      "<|endoftext|>The model was trained on the iris\u001b[31m dataset\u001b[0m. How many times per second does each individual model run?\n",
      "\n",
      "We measured the number of time steps per\n",
      "\n",
      "= Perturbed generated text 9 =\n",
      "<|endoftext|>The model was trained on the iris\u001b[31m dataset\u001b[0m. How the brain was trained on the image\u001b[31m dataset\u001b[0m.\n",
      "\n",
      "Model training was done with the following:<|endoftext|>\n",
      "\n",
      "= Perturbed generated text 10 =\n",
      "<|endoftext|>The model was trained on the iris\u001b[31m dataset\u001b[0m. How to train?\n",
      "\n",
      "Train the model\n",
      "\n",
      "The train function uses the train_iris function,\n",
      "\n"
     ]
    }
   ],
   "source": [
    "_ =run_pplm_example(\n",
    "    cond_text=\"The model was trained on the iris dataset. How\",\n",
    "    num_samples=10,\n",
    "    bag_of_words='machine;question_mark',\n",
    "    length=20,\n",
    "    stepsize=0.06,\n",
    "    sample=True,\n",
    "    num_iterations=3,\n",
    "    window_length=5,\n",
    "    gamma=1.5,\n",
    "    gm_scale=0.65,\n",
    "    kl_scale=0.05,\n",
    "    colorama = True,\n",
    "    verbosity='quiet'\n",
    ")"
   ]
  },
  {
   "cell_type": "code",
   "execution_count": 26,
   "id": "2ba78457",
   "metadata": {},
   "outputs": [
    {
     "data": {
      "text/html": [
       "<table border=\"1\" class=\"dataframe\">  <thead>    <tr style=\"text-align: right;\">      <th>prompt</th>      <th>without PPLM</th>      <th>PPLM sample 1</th>      <th>PPLM sample 2</th>      <th>PPLM sample 3</th>    </tr>  </thead>  <tbody>    <tr>      <td>The model was trained on the iris dataset. How</td>      <td>The model was trained on the iris<span style=\"color: red\"> dataset</span>.<span style=\"color: red\"> How</span> well is her model working?<br/><br/>There are several factors that can cause her to make mistakes in</td>      <td>The model was trained on the iris<span style=\"color: red\"> dataset</span>.<span style=\"color: red\"> How</span> well did the model learn?<br/><br/>We used a training set of 20 000 images.<br/><br/></td>      <td>The model was trained on the iris<span style=\"color: red\"> dataset</span>.<span style=\"color: red\"> How</span> to train a model?<br/><br/>A model is a computer program that takes a<span style=\"color: red\"> dataset</span> as input,</td>      <td>The model was trained on the iris<span style=\"color: red\"> dataset</span>.<span style=\"color: red\"> How</span> to train?<br/><br/>Train the model<br/><br/>The train function uses the train_iris function,</td>    </tr>  </tbody></table>"
      ],
      "text/plain": [
       "<IPython.core.display.HTML object>"
      ]
     },
     "metadata": {},
     "output_type": "display_data"
    }
   ],
   "source": [
    "## 3_1_c_2_good \n",
    "ex_3_1_c_2_good = '<table border=\"1\" class=\"dataframe\">  <thead>    <tr style=\"text-align: right;\">      <th>prompt</th>      <th>without PPLM</th>      <th>PPLM sample 1</th>      <th>PPLM sample 2</th>      <th>PPLM sample 3</th>    </tr>  </thead>  <tbody>    <tr>      <td>The model was trained on the iris dataset. How</td>      <td>The model was trained on the iris<span style=\"color: red\"> dataset</span>.<span style=\"color: red\"> How</span> well is her model working?<br/><br/>There are several factors that can cause her to make mistakes in</td>      <td>The model was trained on the iris<span style=\"color: red\"> dataset</span>.<span style=\"color: red\"> How</span> well did the model learn?<br/><br/>We used a training set of 20 000 images.<br/><br/></td>      <td>The model was trained on the iris<span style=\"color: red\"> dataset</span>.<span style=\"color: red\"> How</span> to train a model?<br/><br/>A model is a computer program that takes a<span style=\"color: red\"> dataset</span> as input,</td>      <td>The model was trained on the iris<span style=\"color: red\"> dataset</span>.<span style=\"color: red\"> How</span> to train?<br/><br/>Train the model<br/><br/>The train function uses the train_iris function,</td>    </tr>  </tbody></table>'\n",
    "display(HTML(ex_3_1_c_2_good))"
   ]
  },
  {
   "cell_type": "code",
   "execution_count": 27,
   "id": "91af15fb",
   "metadata": {},
   "outputs": [
    {
     "data": {
      "text/html": [
       "<table border=\"1\" class=\"dataframe\">  <thead>    <tr style=\"text-align: right;\">      <th>prompt</th>      <th>without PPLM</th>      <th>PPLM sample 1</th>      <th>PPLM sample 2</th>      <th>PPLM sample 3</th>    </tr>  </thead>  <tbody>    <tr>      <td>The model was trained on the iris dataset. How</td>      <td>The model was trained on the iris<span style=\"color: red\"> dataset</span>.<span style=\"color: red\"> How</span> well is her model working?<br/><br/>There are several factors that can cause her to make mistakes in</td>      <td>The model was trained on the iris<span style=\"color: red\"> dataset</span>.<span style=\"color: red\"> How</span> do the images in the model differ?<br/><br/>The model trained from the data was trained on the</td>      <td>The model was trained on the iris<span style=\"color: red\"> dataset</span>.<span style=\"color: red\"> How</span> much the model is able to learn about the iris<span style=\"color: red\"> dataset</span> will depend on whether the model is a</td>      <td>The model was trained on the iris<span style=\"color: red\"> dataset</span>.<span style=\"color: red\"> How</span> the brain was trained on the image<span style=\"color: red\"> dataset</span>.<br/><br/>Model training was done with the following:</td>    </tr>  </tbody></table>"
      ],
      "text/plain": [
       "<IPython.core.display.HTML object>"
      ]
     },
     "metadata": {},
     "output_type": "display_data"
    }
   ],
   "source": [
    "## 3.1.a.1 \n",
    "ex_3_1_c_2_bad = '<table border=\"1\" class=\"dataframe\">  <thead>    <tr style=\"text-align: right;\">      <th>prompt</th>      <th>without PPLM</th>      <th>PPLM sample 1</th>      <th>PPLM sample 2</th>      <th>PPLM sample 3</th>    </tr>  </thead>  <tbody>    <tr>      <td>The model was trained on the iris dataset. How</td>      <td>The model was trained on the iris<span style=\"color: red\"> dataset</span>.<span style=\"color: red\"> How</span> well is her model working?<br/><br/>There are several factors that can cause her to make mistakes in</td>      <td>The model was trained on the iris<span style=\"color: red\"> dataset</span>.<span style=\"color: red\"> How</span> do the images in the model differ?<br/><br/>The model trained from the data was trained on the</td>      <td>The model was trained on the iris<span style=\"color: red\"> dataset</span>.<span style=\"color: red\"> How</span> much the model is able to learn about the iris<span style=\"color: red\"> dataset</span> will depend on whether the model is a</td>      <td>The model was trained on the iris<span style=\"color: red\"> dataset</span>.<span style=\"color: red\"> How</span> the brain was trained on the image<span style=\"color: red\"> dataset</span>.<br/><br/>Model training was done with the following:</td>    </tr>  </tbody></table>'\n",
    "display(HTML(ex_3_1_c_2_bad))"
   ]
  },
  {
   "cell_type": "markdown",
   "id": "b941e805",
   "metadata": {},
   "source": [
    "# Experiment 3.2, Weighted BoW"
   ]
  },
  {
   "cell_type": "code",
   "execution_count": 5,
   "id": "ecebd9b1",
   "metadata": {},
   "outputs": [
    {
     "name": "stdout",
     "output_type": "stream",
     "text": [
      "= Prefix of sentence =\n",
      "<|endoftext|>\n",
      "\n",
      "= Unperturbed generated text =\n",
      "<|endoftext|>A couple weeks ago, I saw the trailer to Star Wars: The Last\n",
      "\n",
      "= Perturbed generated text 1 =\n",
      "<|endoftext|>The first time he played on the field with a rugby jersey was during the\n",
      "\n",
      "= Perturbed generated text 2 =\n",
      "<|endoftext|>A new generation of high-quality, durable outdoor sports gear that is perfect\n",
      "\n",
      "= Perturbed generated text 3 =\n",
      "<|endoftext|>This is not what a man should be looking for, but what a man\n",
      "\n",
      "= Perturbed generated text 4 =\n",
      "<|endoftext|>This site contains a lot of interesting facts about the game. If you have\n",
      "\n",
      "= Perturbed generated text 5 =\n",
      "<|endoftext|>It was the first of two things: the first was a game of chance\n",
      "\n",
      "= Perturbed generated text 6 =\n",
      "<|endoftext|>This is not the time to be running a marathon.\n",
      "\n",
      "\"I\n",
      "\n",
      "= Perturbed generated text 7 =\n",
      "<|endoftext|>If you want to be part of the conversation on\u001b[31m sport\u001b[0m and\u001b[31m sport\u001b[0m-related\n",
      "\n",
      "= Perturbed generated text 8 =\n",
      "<|endoftext|>A little something to add to your life!\n",
      "\n",
      "My name is Mike\n",
      "\n",
      "= Perturbed generated text 9 =\n",
      "<|endoftext|>I am so grateful that a friend, a family member, a\u001b[31m sport\u001b[0msc\n",
      "\n",
      "= Perturbed generated text 10 =\n",
      "<|endoftext|>A new and improved version of the\u001b[31m sport\u001b[0mscare\u001b[31m sport\u001b[0mscar. The new\n",
      "\n"
     ]
    }
   ],
   "source": [
    "#without adding weights\n",
    "from run_pplm import run_pplm_example\n",
    "_ =run_pplm_example(\n",
    "    cond_text=\"\",\n",
    "    num_samples=10,\n",
    "    bag_of_words='test_weight',\n",
    "    length=15,\n",
    "    stepsize=0.06,\n",
    "    sample=True,\n",
    "    num_iterations=3,\n",
    "    window_length=5,\n",
    "    gamma=1.5,\n",
    "    gm_scale=0.65,\n",
    "    kl_scale=0.05,\n",
    "    colorama = True,\n",
    "    verbosity='quiet'\n",
    ")"
   ]
  },
  {
   "cell_type": "code",
   "execution_count": 29,
   "id": "664ea1a7",
   "metadata": {},
   "outputs": [
    {
     "data": {
      "text/html": [
       "<table border=\"1\" class=\"dataframe\">  <thead>    <tr style=\"text-align: right;\">      <th>prompt</th>      <th>without PPLM</th>      <th>PPLM sample 1</th>      <th>PPLM sample 2</th>      <th>PPLM sample 3</th>    </tr>  </thead>  <tbody>    <tr>      <td>None</td>      <td>A couple weeks ago, I saw the trailer to Star Wars: The Last</td>      <td>The first time you hear the term \"cognitive illusion\" is during a</td>      <td>A new report released by the International Association of Athletics Professionals (IAAP</td>      <td>This article contains examples of tropes that are tropes. For more tropes, check</td>    </tr>  </tbody> </table>"
      ],
      "text/plain": [
       "<IPython.core.display.HTML object>"
      ]
     },
     "metadata": {},
     "output_type": "display_data"
    }
   ],
   "source": [
    "## 4_bad\n",
    "ex_4_bad = '<table border=\"1\" class=\"dataframe\">  <thead>    <tr style=\"text-align: right;\">      <th>prompt</th>      <th>without PPLM</th>      <th>PPLM sample 1</th>      <th>PPLM sample 2</th>      <th>PPLM sample 3</th>    </tr>  </thead>  <tbody>    <tr>      <td>None</td>      <td>A couple weeks ago, I saw the trailer to Star Wars: The Last</td>      <td>The first time you hear the term \"cognitive illusion\" is during a</td>      <td>A new report released by the International Association of Athletics Professionals (IAAP</td>      <td>This article contains examples of tropes that are tropes. For more tropes, check</td>    </tr>  </tbody> </table>'\n",
    "display(HTML(ex_4_bad))"
   ]
  },
  {
   "cell_type": "code",
   "execution_count": 6,
   "id": "ec17ba3c",
   "metadata": {},
   "outputs": [
    {
     "name": "stdout",
     "output_type": "stream",
     "text": [
      "= Prefix of sentence =\n",
      "<|endoftext|>\n",
      "\n",
      "= Unperturbed generated text =\n",
      "<|endoftext|>A couple weeks ago, I saw the trailer to Star Wars: The Last\n",
      "\n",
      "= Perturbed generated text 1 =\n",
      "<|endoftext|>The first time you hear the \"S\" sound is when you hear the\n",
      "\n",
      "= Perturbed generated text 2 =\n",
      "<|endoftext|>A few months ago when I started writing about the topic the\u001b[31m instance\u001b[0m of\u001b[31m instance\u001b[0m\n",
      "\n",
      "= Perturbed generated text 3 =\n",
      "<|endoftext|>This is not a simple case. A person is a person who is a\n",
      "\n",
      "= Perturbed generated text 4 =\n",
      "<|endoftext|>This article contains examples of tropes that are frequently associated with the series. If\n",
      "\n",
      "= Perturbed generated text 5 =\n",
      "<|endoftext|>It is also a very interesting story of the emergence of a new class of\n",
      "\n",
      "= Perturbed generated text 6 =\n",
      "<|endoftext|>This is not the\u001b[31m instance\u001b[0m where you are running a custom\u001b[31m instance\u001b[0m, but rather\n",
      "\n",
      "= Perturbed generated text 7 =\n",
      "<|endoftext|>If we take our example for example (which was a list of items),\n",
      "\n",
      "= Perturbed generated text 8 =\n",
      "<|endoftext|>A little background to my approach to the implementation of a\u001b[31m representation\u001b[0m. I will\n",
      "\n",
      "= Perturbed generated text 9 =\n",
      "<|endoftext|>I am a bit concerned about this, but I am trying to use this\n",
      "\n",
      "= Perturbed generated text 10 =\n",
      "<|endoftext|>A new report released by the International Business Times (IBT) has found\n",
      "\n"
     ]
    }
   ],
   "source": [
    "#with adding weights\n",
    "from run_pplm_scale import run_pplm_example\n",
    "_ =run_pplm_example(\n",
    "    cond_text=\"\",\n",
    "    num_samples=10,\n",
    "    bag_of_words='test_weight',\n",
    "    length=15,\n",
    "    stepsize=0.06,\n",
    "    sample=True,\n",
    "    num_iterations=3,\n",
    "    window_length=5,\n",
    "    gamma=1.5,\n",
    "    gm_scale=0.65,\n",
    "    kl_scale=0.05,\n",
    "    colorama = True,\n",
    "    verbosity='quiet'\n",
    ")"
   ]
  },
  {
   "cell_type": "code",
   "execution_count": 31,
   "id": "1f170593",
   "metadata": {},
   "outputs": [
    {
     "data": {
      "text/html": [
       "<table border=\"1\" class=\"dataframe\">  <thead>    <tr style=\"text-align: right;\">      <th>prompt</th>      <th>without PPLM</th>      <th>PPLM sample 1</th>      <th>PPLM sample 2</th>      <th>PPLM sample 3</th>    </tr>  </thead>  <tbody>    <tr>      <td>None</td>      <td>A couple weeks ago, I saw the trailer to Star Wars: The Last</td>      <td>This is not a public function from the context manager, so override<span style=\"color: red\"> instance</span> method</td>      <td>A little background to my approach to the implementation of a<span style=\"color: red\"> representation</span>. I will</td>      <td>This is not the<span style=\"color: red\"> instance</span> where you are running a custom<span style=\"color: red\"> instance</span>, but rather</td>    </tr>  </tbody></table>"
      ],
      "text/plain": [
       "<IPython.core.display.HTML object>"
      ]
     },
     "metadata": {},
     "output_type": "display_data"
    }
   ],
   "source": [
    "\n",
    "## 4_good\n",
    "ex_4_good = '<table border=\"1\" class=\"dataframe\">  <thead>    <tr style=\"text-align: right;\">      <th>prompt</th>      <th>without PPLM</th>      <th>PPLM sample 1</th>      <th>PPLM sample 2</th>      <th>PPLM sample 3</th>    </tr>  </thead>  <tbody>    <tr>      <td>None</td>      <td>A couple weeks ago, I saw the trailer to Star Wars: The Last</td>      <td>This is not a public function from the context manager, so override<span style=\"color: red\"> instance</span> method</td>      <td>A little background to my approach to the implementation of a<span style=\"color: red\"> representation</span>. I will</td>      <td>This is not the<span style=\"color: red\"> instance</span> where you are running a custom<span style=\"color: red\"> instance</span>, but rather</td>    </tr>  </tbody></table>'\n",
    "display(HTML(ex_4_good))"
   ]
  }
 ],
 "metadata": {
  "kernelspec": {
   "display_name": "Python 3",
   "language": "python",
   "name": "python3"
  },
  "language_info": {
   "codemirror_mode": {
    "name": "ipython",
    "version": 3
   },
   "file_extension": ".py",
   "mimetype": "text/x-python",
   "name": "python",
   "nbconvert_exporter": "python",
   "pygments_lexer": "ipython3",
   "version": "3.6.9"
  }
 },
 "nbformat": 4,
 "nbformat_minor": 5
}
