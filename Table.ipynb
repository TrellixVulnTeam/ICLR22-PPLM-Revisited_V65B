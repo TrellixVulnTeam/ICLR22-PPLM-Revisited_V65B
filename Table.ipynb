{
 "cells": [
  {
   "cell_type": "code",
   "execution_count": 1,
   "metadata": {},
   "outputs": [],
   "source": [
    "from IPython.display import display, HTML"
   ]
  },
  {
   "cell_type": "code",
   "execution_count": 2,
   "metadata": {},
   "outputs": [
    {
     "data": {
      "text/html": [
       "<table> <tr> <td></td> <td colspan=\"4\"><strong>from Colab notebook - executed by the authors</strong></td> </tr> <tr> <td> </td> <td> <strong>Not Steered</strong> </td> <td> <strong>Steered 1</strong> </td> <td> <strong>Steered 2</strong> </td> <td> <strong>Steered 3</strong> </td> </tr> <tr> <td> <strong>Original</strong> </td> <td>The potato is probably the world's most widely eaten plant. But what if it's also the most dangerous? <br/> <br/> In the last two decades, there's been a dramatic decrease in potato crop damage from crop rot and disease. The decline, which started in </td> <td> The potato-like, potato-sized thing is the most popular of all the things we do in the<span style=\"color:red\"> military</span>, especially if you're a<span style=\"color:red\"> soldier</span>in the field. <br/> <br/> It's an assault<span style=\"color:red\"> weapon</span>. <br/> <br/> It's an<span style=\"color:red\"> armor</span>ed vehicle. <br/> <br/> It </td> <td> The potato<span style=\"color:red\"> bomb</span>and the anti-Semitic<span style=\"color:red\"> attack</span>that<span style=\"color:red\"> kill</span>ed four Jewish students at a Jewish school in France are \"unacceptable\" but have no connection with terrorism, Prime Minister Justin Trudeau told a news conference on Wednesday. <br/> <br/> \"We will not tolerate hate,\" </td> <td> The potato chip craze is in full swing. <br/> <br/> The popular snacks have been around for years, but now they're hitting the mainstream. And while some brands have tried to capitalize on the potato chips craze, there are many brands who haven't. </td> </tr> <tr> <td></td> <td colspan=\"5\"><strong> from Colab notebook - executed by us locally </strong></td> </tr> <tr> <td> </td> <td> <strong>Not Steered</strong> </td> <td> <strong>Steered 1</strong> </td> <td> <strong>Steered 2</strong> </td> <td> <strong>Steered 3</strong> </td> </tr> <tr> <td> <strong>Unchanged hyperparameters</strong> </td> <td> The potato plant is a member of the cabbage family, but is also a member of the mustard family, and is sometimes confused with mustard. It is not native to America and is not part of its family, although the potato is native to Europe. </td> <td>The potato salad recipe that is so popular with the kids is based on one of those classic classic dishes. I was intrigued and a little skeptical at the thought of this classic dish. It was a staple in my family for years. It is not hard to find </td> <td> The potato chip is the first of the year and is the perfect snack to have on hand for the holidays. But the recipe is a little tricky. This is because we have a potato<span style=\"color:red\"> bomb</span>recipe. <br/> What is a potato<span style=\"color:red\"> bomb</span>?</span> </td> <td>The potato is one of the most nutritious vegetables that can provide all the essential micronutrients needed for a healthy body, but some people are concerned about the long-term health effects. <br/> The health of the potato is inextricably tied to </td> </tr> <tr> <td> <strong>Tuned hyperparameters</strong> <br/> </td> <td>The potato plant is a member of the cabbage family, but is also a member of the mustard family, and is sometimes confused with mustard. It is not native to America and is not part of its family, although the potato is native to Europe. <br/> </td> <td>The potato was the first to fall, but the potato salad has since taken over. <br/> <br/> The world may be on a nuclear<span style=\"color:red\"> war</span>path, but potato-eating is still in the bag for a new generation of British teenagers. <br/> <br/> And the trend is <br/> <br/> </td> <td> The potato chip is the most popular chip snack in Canada, but is it the healthiest? <br/> <br/> We asked the experts to weigh in on the health<span style=\"color:red\"> bomb</span>that is potato chips. <br/> <br/> The<span style=\"color:red\"> bomb</span> <br/> <br/> The potato chip<span style=\"color:red\"> bomb</span>?</span> <br/> <br/> The<span style=\"color:red\"> bomb</span> <br/> </td> <td>The potato is one of the best-tasting foods to come out of the Middle East and has been around since the early 20th century. The Middle East has had its share of<span style=\"color:red\"> war</span>s, but the most important of which was between Israel and Egypt. Israel </td> </tr> </table>"
      ],
      "text/plain": [
       "<IPython.core.display.HTML object>"
      ]
     },
     "metadata": {},
     "output_type": "display_data"
    }
   ],
   "source": [
    "reproduce = '<table> <tr> <td></td> <td colspan=\"4\"><strong>from Colab notebook - executed by the authors</strong></td> </tr> <tr> <td> </td> <td> <strong>Not Steered</strong> </td> <td> <strong>Steered 1</strong> </td> <td> <strong>Steered 2</strong> </td> <td> <strong>Steered 3</strong> </td> </tr> <tr> <td> <strong>Original</strong> </td> <td>The potato is probably the world\\'s most widely eaten plant. But what if it\\'s also the most dangerous? <br/> <br/> In the last two decades, there\\'s been a dramatic decrease in potato crop damage from crop rot and disease. The decline, which started in </td> <td> The potato-like, potato-sized thing is the most popular of all the things we do in the<span style=\"color:red\"> military</span>, especially if you\\'re a<span style=\"color:red\"> soldier</span>in the field. <br/> <br/> It\\'s an assault<span style=\"color:red\"> weapon</span>. <br/> <br/> It\\'s an<span style=\"color:red\"> armor</span>ed vehicle. <br/> <br/> It </td> <td> The potato<span style=\"color:red\"> bomb</span>and the anti-Semitic<span style=\"color:red\"> attack</span>that<span style=\"color:red\"> kill</span>ed four Jewish students at a Jewish school in France are \"unacceptable\" but have no connection with terrorism, Prime Minister Justin Trudeau told a news conference on Wednesday. <br/> <br/> \"We will not tolerate hate,\" </td> <td> The potato chip craze is in full swing. <br/> <br/> The popular snacks have been around for years, but now they\\'re hitting the mainstream. And while some brands have tried to capitalize on the potato chips craze, there are many brands who haven\\'t. </td> </tr> <tr> <td></td> <td colspan=\"5\"><strong> from Colab notebook - executed by us locally </strong></td> </tr> <tr> <td> </td> <td> <strong>Not Steered</strong> </td> <td> <strong>Steered 1</strong> </td> <td> <strong>Steered 2</strong> </td> <td> <strong>Steered 3</strong> </td> </tr> <tr> <td> <strong>Unchanged hyperparameters</strong> </td> <td> The potato plant is a member of the cabbage family, but is also a member of the mustard family, and is sometimes confused with mustard. It is not native to America and is not part of its family, although the potato is native to Europe. </td> <td>The potato salad recipe that is so popular with the kids is based on one of those classic classic dishes. I was intrigued and a little skeptical at the thought of this classic dish. It was a staple in my family for years. It is not hard to find </td> <td> The potato chip is the first of the year and is the perfect snack to have on hand for the holidays. But the recipe is a little tricky. This is because we have a potato<span style=\"color:red\"> bomb</span>recipe. <br/> What is a potato<span style=\"color:red\"> bomb</span>?</span> </td> <td>The potato is one of the most nutritious vegetables that can provide all the essential micronutrients needed for a healthy body, but some people are concerned about the long-term health effects. <br/> The health of the potato is inextricably tied to </td> </tr> <tr> <td> <strong>Tuned hyperparameters</strong> <br/> </td> <td>The potato plant is a member of the cabbage family, but is also a member of the mustard family, and is sometimes confused with mustard. It is not native to America and is not part of its family, although the potato is native to Europe. <br/> </td> <td>The potato was the first to fall, but the potato salad has since taken over. <br/> <br/> The world may be on a nuclear<span style=\"color:red\"> war</span>path, but potato-eating is still in the bag for a new generation of British teenagers. <br/> <br/> And the trend is <br/> <br/> </td> <td> The potato chip is the most popular chip snack in Canada, but is it the healthiest? <br/> <br/> We asked the experts to weigh in on the health<span style=\"color:red\"> bomb</span>that is potato chips. <br/> <br/> The<span style=\"color:red\"> bomb</span> <br/> <br/> The potato chip<span style=\"color:red\"> bomb</span>?</span> <br/> <br/> The<span style=\"color:red\"> bomb</span> <br/> </td> <td>The potato is one of the best-tasting foods to come out of the Middle East and has been around since the early 20th century. The Middle East has had its share of<span style=\"color:red\"> war</span>s, but the most important of which was between Israel and Egypt. Israel </td> </tr> </table>'\n",
    "display(HTML(reproduce))"
   ]
  },
  {
   "cell_type": "code",
   "execution_count": 3,
   "metadata": {},
   "outputs": [
    {
     "data": {
      "text/html": [
       "<table> <tr> <td><strong>From paper </strong> </td> <td><strong>Github - unchanged hyperparameters </strong> </td> <td><strong>Github - tuned hyperparameters</strong> </td> </tr> <tr> <td> <br/> The potato-sized monster who murdered his wife in a horrific suicide<span style=\"color:red\"> bomb</span><span style=\"color:red\"> attack</span>outside the Iranian embassy in Tehran has<span style=\"color:red\"> kill</span>ed a<span style=\"color:red\"> soldier</span>and<span style=\"color:red\"> wound</span>ed another<span style=\"color:red\"> soldier</span>.\n",
       " \n",
       " The<span style=\"color:red\"> soldier</span>and a third<span style=\"color:red\"> soldier</span>were<span style=\"color:red\"> kill</span>ed in the<span style=\"color:red\"> attack</span>, a<span style=\"color:red\"> military</span>official told Iranian news agency Fars reported.\n",
       " \n",
       " The suicide<span style=\"color:red\"> bomb</span>ing of an<span style=\"color:red\"> army</span>truck in the Iranian side of the<span style=\"color:red\"> front</span>lines<span style=\"color:red\"> kill</span>ed a<span style=\"color:red\"> soldier</span>and<span style=\"color:red\"> wound</span>ed a second<span style=\"color:red\"> soldier</span>,<span style=\"color:red\"> military</span><span style=\"color:red\"> command</span>er Genadier General Hossein Salami said in a statement, reported state television. <br/> </td> <td> The potato chips were a popular snack for the kids. <br/> The potato chips were also a popular snack for the kids, according to the Washington Post.&lt;|endoftext|>Image copyright Reuters Image caption The BBC has been unable to access the site <br/> <br/> Two people have been detained over a video which shows the police<span style=\"color:red\"> force</span>'s helicopter taking down a speeding car. <br/> <br/> The helicopter was seen speeding down the M25 at about 12:20 GMT at the weekend. </td> <td> The potato is the best source of protein for your health. <br/> <br/> The potato is one of the most powerful sources of energy. <br/> <br/> The potato can be easily eaten and is highly effective, as long as you are eating it. It is also one of the most effective ways to<span style=\"color:red\"> fight</span> off enemies, such as the archer. <br/> <br/> The archer is a powerful<span style=\"color:red\"> enemy</span>that can destroy the archer, and can even stop you from being able to<span style=\"color:red\"> kill</span>the archer with a single<span style=\"color:red\"> shot</span>. The <br/> </td> </tr> </table>"
      ],
      "text/plain": [
       "<IPython.core.display.HTML object>"
      ]
     },
     "metadata": {},
     "output_type": "display_data"
    }
   ],
   "source": [
    "reproduce_1 = '<table> <tr> <td><strong>From paper </strong> </td> <td><strong>Github - unchanged hyperparameters </strong> </td> <td><strong>Github - tuned hyperparameters</strong> </td> </tr> <tr> <td> <br/> The potato-sized monster who murdered his wife in a horrific suicide<span style=\"color:red\"> bomb</span><span style=\"color:red\"> attack</span>outside the Iranian embassy in Tehran has<span style=\"color:red\"> kill</span>ed a<span style=\"color:red\"> soldier</span>and<span style=\"color:red\"> wound</span>ed another<span style=\"color:red\"> soldier</span>.\\n \\n The<span style=\"color:red\"> soldier</span>and a third<span style=\"color:red\"> soldier</span>were<span style=\"color:red\"> kill</span>ed in the<span style=\"color:red\"> attack</span>, a<span style=\"color:red\"> military</span>official told Iranian news agency Fars reported.\\n \\n The suicide<span style=\"color:red\"> bomb</span>ing of an<span style=\"color:red\"> army</span>truck in the Iranian side of the<span style=\"color:red\"> front</span>lines<span style=\"color:red\"> kill</span>ed a<span style=\"color:red\"> soldier</span>and<span style=\"color:red\"> wound</span>ed a second<span style=\"color:red\"> soldier</span>,<span style=\"color:red\"> military</span><span style=\"color:red\"> command</span>er Genadier General Hossein Salami said in a statement, reported state television. <br/> </td> <td> The potato chips were a popular snack for the kids. <br/> The potato chips were also a popular snack for the kids, according to the Washington Post.&lt;|endoftext|>Image copyright Reuters Image caption The BBC has been unable to access the site <br/> <br/> Two people have been detained over a video which shows the police<span style=\"color:red\"> force</span>\\'s helicopter taking down a speeding car. <br/> <br/> The helicopter was seen speeding down the M25 at about 12:20 GMT at the weekend. </td> <td> The potato is the best source of protein for your health. <br/> <br/> The potato is one of the most powerful sources of energy. <br/> <br/> The potato can be easily eaten and is highly effective, as long as you are eating it. It is also one of the most effective ways to<span style=\"color:red\"> fight</span> off enemies, such as the archer. <br/> <br/> The archer is a powerful<span style=\"color:red\"> enemy</span>that can destroy the archer, and can even stop you from being able to<span style=\"color:red\"> kill</span>the archer with a single<span style=\"color:red\"> shot</span>. The <br/> </td> </tr> </table>'\n",
    "display(HTML(reproduce_1))"
   ]
  },
  {
   "cell_type": "code",
   "execution_count": 5,
   "metadata": {},
   "outputs": [
    {
     "data": {
      "text/html": [
       "<table border=\"1\" class=\"dataframe\">  <thead>    <tr style=\"text-align: right;\">      <th>prompt</th>      <th>without PPLM</th>      <th>PPLM sample 1</th>      <th>PPLM sample 2</th>      <th>PPLM sample 3</th>    </tr>  </thead>  <tbody>    <tr>      <td></td>      <td>A couple weeks ago, I saw the trailer to</td>      <td>The Best Of The Last<span style=\"color: red\"> How</span> To<span style=\"color: red\"> How</span> To Create</td>      <td>In a stunning display of<span style=\"color: red\"> how</span> little we know about</td>      <td>In a stunning display of<span style=\"color: red\"> how</span> little we know about</td>    </tr>  </tbody></table>"
      ],
      "text/plain": [
       "<IPython.core.display.HTML object>"
      ]
     },
     "metadata": {},
     "output_type": "display_data"
    }
   ],
   "source": [
    "## 3.1.a.1 \n",
    "ex_3_1_a_1 = '<table border=\"1\" class=\"dataframe\">  <thead>    <tr style=\"text-align: right;\">      <th>prompt</th>      <th>without PPLM</th>      <th>PPLM sample 1</th>      <th>PPLM sample 2</th>      <th>PPLM sample 3</th>    </tr>  </thead>  <tbody>    <tr>      <td></td>      <td>A couple weeks ago, I saw the trailer to</td>      <td>The Best Of The Last<span style=\"color: red\"> How</span> To<span style=\"color: red\"> How</span> To Create</td>      <td>In a stunning display of<span style=\"color: red\"> how</span> little we know about</td>      <td>In a stunning display of<span style=\"color: red\"> how</span> little we know about</td>    </tr>  </tbody></table>'\n",
    "display(HTML(ex_3_1_a_1))"
   ]
  },
  {
   "cell_type": "code",
   "execution_count": 6,
   "metadata": {},
   "outputs": [
    {
     "data": {
      "text/html": [
       "<table border=\"1\" class=\"dataframe\">  <thead>    <tr style=\"text-align: right;\">      <th>prompt</th>      <th>without PPLM</th>      <th>PPLM sample 1</th>      <th>PPLM sample 2</th>      <th>PPLM sample 3</th>    </tr>  </thead>  <tbody>    <tr>      <td>What</td>      <td>What's New In v1.6:<br/><br/></td>      <td>What is the meaning of 'Hang the dog<span style=\"color: red\"> ?</span>'</td>      <td>What do you think is the best part about this game</td>      <td>What are the chances of winning<span style=\"color: red\"> ?</span><br/><br/>There are</td>    </tr>  </tbody></table>"
      ],
      "text/plain": [
       "<IPython.core.display.HTML object>"
      ]
     },
     "metadata": {},
     "output_type": "display_data"
    }
   ],
   "source": [
    "## 3.1.a.2 good\n",
    "ex_3_1_a_2_good = '<table border=\"1\" class=\"dataframe\">  <thead>    <tr style=\"text-align: right;\">      <th>prompt</th>      <th>without PPLM</th>      <th>PPLM sample 1</th>      <th>PPLM sample 2</th>      <th>PPLM sample 3</th>    </tr>  </thead>  <tbody>    <tr>      <td>What</td>      <td>What\\'s New In v1.6:<br/><br/></td>      <td>What is the meaning of \\'Hang the dog<span style=\"color: red\"> ?</span>\\'</td>      <td>What do you think is the best part about this game</td>      <td>What are the chances of winning<span style=\"color: red\"> ?</span><br/><br/>There are</td>    </tr>  </tbody></table>'\n",
    "display(HTML(ex_3_1_a_2_good))"
   ]
  },
  {
   "cell_type": "code",
   "execution_count": 7,
   "metadata": {},
   "outputs": [
    {
     "data": {
      "text/html": [
       "<table border=\"1\" class=\"dataframe\">  <thead>    <tr style=\"text-align: right;\">      <th>prompt</th>      <th>without PPLM</th>      <th>PPLM sample 1</th>      <th>PPLM sample 2</th>      <th>PPLM sample 3</th>    </tr>  </thead>  <tbody>    <tr>      <td>What</td>      <td>What's New In v1.6:<br/><br/></td>      <td>What you'll need to make a<span style=\"color: red\"> ?</span><br/><br/><span style=\"color: red\"> ?</span></td>      <td>What's more, they don't seem to have any</td>      <td>What do the numbers in the middle of these<span style=\"color: red\"> ?</span><br/></td>    </tr>  </tbody></table>"
      ],
      "text/plain": [
       "<IPython.core.display.HTML object>"
      ]
     },
     "metadata": {},
     "output_type": "display_data"
    }
   ],
   "source": [
    "## 3.1.a.2 bad\n",
    "ex_3_1_a_2_bad = '<table border=\"1\" class=\"dataframe\">  <thead>    <tr style=\"text-align: right;\">      <th>prompt</th>      <th>without PPLM</th>      <th>PPLM sample 1</th>      <th>PPLM sample 2</th>      <th>PPLM sample 3</th>    </tr>  </thead>  <tbody>    <tr>      <td>What</td>      <td>What\\'s New In v1.6:<br/><br/></td>      <td>What you\\'ll need to make a<span style=\"color: red\"> ?</span><br/><br/><span style=\"color: red\"> ?</span></td>      <td>What\\'s more, they don\\'t seem to have any</td>      <td>What do the numbers in the middle of these<span style=\"color: red\"> ?</span><br/></td>    </tr>  </tbody></table>'\n",
    "display(HTML(ex_3_1_a_2_bad))"
   ]
  },
  {
   "cell_type": "code",
   "execution_count": 8,
   "metadata": {},
   "outputs": [
    {
     "data": {
      "text/html": [
       "<table border=\"1\" class=\"dataframe\">  <thead>    <tr style=\"text-align: right;\">      <th>prompt</th>      <th>without PPLM</th>      <th>PPLM sample 1</th>    </tr>  </thead>  <tbody>    <tr>      <td></td>      <td>A couple weeks ago, I saw the trailer to Star Wars: The Last Jedi and thought it might be a nice idea to write a review about what it might be about for Star Wars. I'm not the only one who was thinking about it,</td>      <td>What is a 'Branch'<br/><br/>A branch is a collection of operations that all have the same effect, but each one has the unique<span style=\"color: red\"> attribute</span> called the type.<br/><br/>An operation has its<span style=\"color: red\"> attribute</span> name, its type<span style=\"color: red\"> attribute</span> (if any),</td>    </tr>  </tbody></table>"
      ],
      "text/plain": [
       "<IPython.core.display.HTML object>"
      ]
     },
     "metadata": {},
     "output_type": "display_data"
    }
   ],
   "source": [
    "## 3.1.b.1 good\n",
    "ex_3_1_b_1_good = '<table border=\"1\" class=\"dataframe\">  <thead>    <tr style=\"text-align: right;\">      <th>prompt</th>      <th>without PPLM</th>      <th>PPLM sample 1</th>    </tr>  </thead>  <tbody>    <tr>      <td></td>      <td>A couple weeks ago, I saw the trailer to Star Wars: The Last Jedi and thought it might be a nice idea to write a review about what it might be about for Star Wars. I\\'m not the only one who was thinking about it,</td>      <td>What is a \\'Branch\\'<br/><br/>A branch is a collection of operations that all have the same effect, but each one has the unique<span style=\"color: red\"> attribute</span> called the type.<br/><br/>An operation has its<span style=\"color: red\"> attribute</span> name, its type<span style=\"color: red\"> attribute</span> (if any),</td>    </tr>  </tbody></table>'\n",
    "display(HTML(ex_3_1_b_1_good))"
   ]
  },
  {
   "cell_type": "code",
   "execution_count": 9,
   "metadata": {},
   "outputs": [
    {
     "data": {
      "text/html": [
       "<table border=\"1\" class=\"dataframe\">  <thead>    <tr style=\"text-align: right;\">      <th>prompt</th>      <th>without PPLM</th>      <th>PPLM sample 1</th>      <th>PPLM sample 2</th>      <th>PPLM sample 3</th>    </tr>  </thead>  <tbody>    <tr>      <td></td>      <td>A couple weeks ago, I saw the trailer to Star Wars: The Last Jedi and thought it might be a nice idea to write a review about what it might be about for Star Wars. I'm not the only one who was thinking about it,</td>      <td>A group that advocates for the legalization of marijuana in Washington and Colorado have been invited to attend the state-level meeting that<span style=\"color: red\"> features</span> representatives from the marijuana industry, which includes a variety of companies.<br/><br/>Representatives from the Washington State Liquor Control Board</td>      <td>A man who has a penchant for wearing the clothes of women is one of the first things to come to mind when thinking of male-driven tech. The idea for this<span style=\"color: red\"> feature</span> is that men who want to take part in the future of technology should be</td>      <td>We've all heard stories of people who've gone out with an attractive partner, who've done some amazing things in their relationships, who can help their partners with various needs, and who<span style=\"color: red\"> feature</span> prominently on the home page of our website. We<span style=\"color: red\"> feature</span> a</td>    </tr>  </tbody></table>"
      ],
      "text/plain": [
       "<IPython.core.display.HTML object>"
      ]
     },
     "metadata": {},
     "output_type": "display_data"
    }
   ],
   "source": [
    "## 3.1.b.1 bad \n",
    "ex_3_1_b_1_bad = '<table border=\"1\" class=\"dataframe\">  <thead>    <tr style=\"text-align: right;\">      <th>prompt</th>      <th>without PPLM</th>      <th>PPLM sample 1</th>      <th>PPLM sample 2</th>      <th>PPLM sample 3</th>    </tr>  </thead>  <tbody>    <tr>      <td></td>      <td>A couple weeks ago, I saw the trailer to Star Wars: The Last Jedi and thought it might be a nice idea to write a review about what it might be about for Star Wars. I\\'m not the only one who was thinking about it,</td>      <td>A group that advocates for the legalization of marijuana in Washington and Colorado have been invited to attend the state-level meeting that<span style=\"color: red\"> features</span> representatives from the marijuana industry, which includes a variety of companies.<br/><br/>Representatives from the Washington State Liquor Control Board</td>      <td>A man who has a penchant for wearing the clothes of women is one of the first things to come to mind when thinking of male-driven tech. The idea for this<span style=\"color: red\"> feature</span> is that men who want to take part in the future of technology should be</td>      <td>We\\'ve all heard stories of people who\\'ve gone out with an attractive partner, who\\'ve done some amazing things in their relationships, who can help their partners with various needs, and who<span style=\"color: red\"> feature</span> prominently on the home page of our website. We<span style=\"color: red\"> feature</span> a</td>    </tr>  </tbody></table>'\n",
    "display(HTML(ex_3_1_b_1_bad))"
   ]
  },
  {
   "cell_type": "code",
   "execution_count": 10,
   "metadata": {},
   "outputs": [
    {
     "data": {
      "text/html": [
       "<table border=\"1\" class=\"dataframe\">  <thead>    <tr style=\"text-align: right;\">      <th>prompt</th>      <th>without PPLM</th>      <th>PPLM sample 1</th>      <th>PPLM sample 2</th>      <th>PPLM sample 3</th>    </tr>  </thead>  <tbody>    <tr>      <td>The model was trained on the Iris dataset.</td>      <td>The model was trained on the Iris<span style=\"color: red\"> dataset</span>. The neural networks used include recurrent neural networks, recurrent neural nets, and convolutional networks. This paper shows how to train a classifier for each of these networks. In addition, it introduces the new<span style=\"color: red\"> features</span> that can be applied to these networks.</td>      <td>The model was trained on the Iris<span style=\"color: red\"> dataset</span>.<br/><br/>This project is a collaborative research effort between the Open Data Lab at the University of Chicago and the Open Data Project at MIT. The<span style=\"color: red\"> dataset</span> is freely available in the Iris<span style=\"color: red\"> dataset</span>, but we're looking forward to seeing if you use the training data</td>      <td>The model was trained on the Iris<span style=\"color: red\"> dataset</span>. The training<span style=\"color: red\"> dataset</span> contains a<span style=\"color: red\"> dataset</span> of 100 000 pictures, each of which is an image file, in each of a subset of<span style=\"color: red\"> features</span>. We then train the model using the training<span style=\"color: red\"> dataset</span>. This<span style=\"color: red\"> dataset</span> contains<span style=\"color: red\"> features</span> that can be used to<span style=\"color: red\"> classify</span> the model<span style=\"color: red\"> feature</span></td>      <td>The model was trained on the Iris<span style=\"color: red\"> dataset</span>. The training set of the model consisted of the data collected by each individual<span style=\"color: red\"> dataset</span> as follows. All data was normalized using a standard deviation [i.e. data set, data<span style=\"color: red\"> dataset</span> ] to avoid<span style=\"color: red\"> dataset</span> skew and to reduce the<span style=\"color: red\"> dataset</span> size. A<span style=\"color: red\"> dataset</span></td>    </tr>  </tbody></table>"
      ],
      "text/plain": [
       "<IPython.core.display.HTML object>"
      ]
     },
     "metadata": {},
     "output_type": "display_data"
    }
   ],
   "source": [
    "## 3_1_b_2_good\n",
    "ex_3_1_b_2_good = '<table border=\"1\" class=\"dataframe\">  <thead>    <tr style=\"text-align: right;\">      <th>prompt</th>      <th>without PPLM</th>      <th>PPLM sample 1</th>      <th>PPLM sample 2</th>      <th>PPLM sample 3</th>    </tr>  </thead>  <tbody>    <tr>      <td>The model was trained on the Iris dataset.</td>      <td>The model was trained on the Iris<span style=\"color: red\"> dataset</span>. The neural networks used include recurrent neural networks, sparse neural networks, and convolutional networks. This paper shows how to train a classifier for each of these networks. In addition, it introduces the new<span style=\"color: red\"> features</span> that can be applied to these networks.</td>      <td>The model was trained on the Iris<span style=\"color: red\"> dataset</span>. A model that was trained using the Iris<span style=\"color: red\"> dataset</span> was then trained on the model trained on the<span style=\"color: red\"> dataset</span>. This allows the user to compare the accuracy of the model with the accuracy of the trained model.<br/><br/>The model was trained on the Iris<span style=\"color: red\"> dataset</span>.</td>      <td>The model was trained on the Iris<span style=\"color: red\"> dataset</span>. The results show that the model was able to<span style=\"color: red\"> classify</span> images at a rate of 3.1 per thousand. This is a much higher rate than many other image classification methods, especially for the more sparse images.<br/><br/>This model does not require any training</td>      <td>The model was trained on the Iris<span style=\"color: red\"> dataset</span>. The model was trained using the following training data from the Iris<span style=\"color: red\"> dataset</span> (N = 468, total number of observations: 5,742: 0.00%):<br/><br/>Training parameters<br/><br/>The training data was used to train two different models</td>    </tr>  </tbody></table>'\n",
    "display(HTML(ex_3_1_b_2_good))\n"
   ]
  },
  {
   "cell_type": "code",
   "execution_count": 11,
   "metadata": {},
   "outputs": [
    {
     "data": {
      "text/html": [
       "<table border=\"1\" class=\"dataframe\">  <thead>    <tr style=\"text-align: right;\">      <th>prompt</th>      <th>without PPLM</th>      <th>PPLM sample 1</th>      <th>PPLM sample 2</th>    </tr>  </thead>  <tbody>    <tr>      <td>The model was trained on the Iris dataset.</td>      <td>The model was trained on the Iris<span style=\"color: red\"> dataset</span>. The neural networks used include recurrent neural networks, recurrent neural nets, and convolutional networks. This paper shows how to train a classifier for each of these networks. In addition, it introduces the new<span style=\"color: red\"> features</span> that can be applied to these networks.</td>      <td>The model was trained on the Iris<span style=\"color: red\"> dataset</span>. It also trained on three datasets: two of them used only the Iris<span style=\"color: red\"> dataset</span> and three more datasets. The data is sorted by<span style=\"color: red\"> features</span> in the data set:<span style=\"color: red\"> feature</span> set of the training set,<span style=\"color: red\"> feature</span> set of<span style=\"color: red\"> feature</span> model of<span style=\"color: red\"> dataset</span>, and<span style=\"color: red\"> feature</span><span style=\"color: red\"> feature</span> set</td>      <td>The model was trained on the Iris<span style=\"color: red\"> dataset</span>.<br/><br/>This model was trained on the Iris<span style=\"color: red\"> dataset</span>.<br/><br/>It trained on a<span style=\"color: red\"> dataset</span> of 1m-3m images with an average pixel count of 1 pixel (1 pixel per pixel).<br/><br/>It was also trained with a<span style=\"color: red\"> dataset</span> of 10</td>    </tr>  </tbody></table>"
      ],
      "text/plain": [
       "<IPython.core.display.HTML object>"
      ]
     },
     "metadata": {},
     "output_type": "display_data"
    }
   ],
   "source": [
    "## 3_1_b_2_bad \n",
    "ex_3_1_b_2_bad = '<table border=\"1\" class=\"dataframe\">  <thead>    <tr style=\"text-align: right;\">      <th>prompt</th>      <th>without PPLM</th>      <th>PPLM sample 1</th>      <th>PPLM sample 2</th>      <th>PPLM sample 3</th>    </tr>  </thead>  <tbody>    <tr>      <td>The model was trained on the Iris dataset.</td>      <td>The model was trained on the Iris<span style=\"color: red\"> dataset</span>. The neural networks used include recurrent neural networks, sparse neural networks, and convolutional networks. This paper shows how to train a classifier for each of these networks. In addition, it introduces the new<span style=\"color: red\"> features</span> that can be applied to these networks.</td>      <td>The model was trained on the Iris<span style=\"color: red\"> dataset</span>. The training set of the model consisted of the following items:<br/><br/>A model for detecting and predicting face<span style=\"color: red\"> features</span> from a photograph of a woman wearing a hat. The model included six<span style=\"color: red\"> features</span> (i.e., nose, mouth, eyes, ears,</td>      <td>The model was trained on the Iris<span style=\"color: red\"> dataset</span>. It also trained on three datasets: two of them used only the Iris<span style=\"color: red\"> dataset</span> and three more that had Iris data from a range of other sources (e.g., the University of Chicago\\'s National Institute of General Medical Sciences<span style=\"color: red\"> dataset</span>, the European Photov</td>      <td>The model was trained on the Iris<span style=\"color: red\"> dataset</span>. This<span style=\"color: red\"> dataset</span> includes images of the human face from a collection of images collected by the Iris Research Facility from around Europe in the 1990s.<br/><br/>The face was then trained to produce three different facial shapes (two with a flat top and a rounded one</td>    </tr>  </tbody></table>'\n",
    "display(HTML(ex_3_1_b_2_bad))"
   ]
  },
  {
   "cell_type": "code",
   "execution_count": 12,
   "metadata": {},
   "outputs": [
    {
     "data": {
      "text/html": [
       "<table border=\"1\" class=\"dataframe\">  <thead>    <tr style=\"text-align: right;\">      <th>prompt</th>      <th>without PPLM</th>      <th>PPLM sample 1</th>      <th>PPLM sample 2</th>    </tr>  </thead>  <tbody>    <tr>      <td>How</td>      <td>How do you keep your hands clean?<br/><br/>We've got you covered.<br/><br/>We know it</td>      <td>How to use<br/><br/>To use this library use your favorite editor and type:<br/><br/>$ python example</td>      <td>How to Use?<br/><br/>Use this form for any kind of data collection or analysis on any kind of</td>    </tr>  </tbody></table>"
      ],
      "text/plain": [
       "<IPython.core.display.HTML object>"
      ]
     },
     "metadata": {},
     "output_type": "display_data"
    }
   ],
   "source": [
    "## 3.1.c.1 good\n",
    "ex_3_1_c_1_good = '<table border=\"1\" class=\"dataframe\">  <thead>    <tr style=\"text-align: right;\">      <th>prompt</th>      <th>without PPLM</th>      <th>PPLM sample 1</th>      <th>PPLM sample 2</th>    </tr>  </thead>  <tbody>    <tr>      <td>How</td>      <td>How do you keep your hands clean?<br/><br/>We\\'ve got you covered.<br/><br/>We know it</td>      <td>How to use<br/><br/>To use this library use your favorite editor and type:<br/><br/>$ python example</td>      <td>How to Use?<br/><br/>Use this form for any kind of data collection or analysis on any kind of</td>    </tr>  </tbody></table>'\n",
    "display(HTML(ex_3_1_c_1_good))"
   ]
  },
  {
   "cell_type": "code",
   "execution_count": 13,
   "metadata": {},
   "outputs": [
    {
     "data": {
      "text/html": [
       "<table border=\"1\" class=\"dataframe\">  <thead>    <tr style=\"text-align: right;\">      <th>prompt</th>      <th>without PPLM</th>      <th>PPLM sample 1</th>      <th>PPLM sample 2</th>      <th>PPLM sample 3</th>    </tr>  </thead>  <tbody>    <tr>      <td>How</td>      <td>How do you keep your hands clean?<br/><br/>We've got you covered.<br/><br/>We know it</td>      <td>How much do you need to earn to earn?<br/><br/>1 $1, 000 in?<br/><br/></td>      <td>How do the numbers in the middle section compare with each other?<br/><br/>How can I get a better</td>      <td>How To Make It<br/><br/>Step 1 Preheat the oven to 350°.<br/><br/>Step 2 Place</td>    </tr>  </tbody></table>"
      ],
      "text/plain": [
       "<IPython.core.display.HTML object>"
      ]
     },
     "metadata": {},
     "output_type": "display_data"
    }
   ],
   "source": [
    "## 3.1.c.1 bad \n",
    "ex_3_1_c_1_bad = '<table border=\"1\" class=\"dataframe\">  <thead>    <tr style=\"text-align: right;\">      <th>prompt</th>      <th>without PPLM</th>      <th>PPLM sample 1</th>      <th>PPLM sample 2</th>      <th>PPLM sample 3</th>    </tr>  </thead>  <tbody>    <tr>      <td>How</td>      <td>How do you keep your hands clean?<br/><br/>We\\'ve got you covered.<br/><br/>We know it</td>      <td>How much do you need to earn to earn?<br/><br/>1 $1, 000 in?<br/><br/></td>      <td>How do the numbers in the middle section compare with each other?<br/><br/>How can I get a better</td>      <td>How To Make It<br/><br/>Step 1 Preheat the oven to 350°.<br/><br/>Step 2 Place</td>    </tr>  </tbody></table>'\n",
    "display(HTML(ex_3_1_c_1_bad))"
   ]
  },
  {
   "cell_type": "code",
   "execution_count": 14,
   "metadata": {},
   "outputs": [
    {
     "data": {
      "text/html": [
       "<table border=\"1\" class=\"dataframe\">  <thead>    <tr style=\"text-align: right;\">      <th>prompt</th>      <th>without PPLM</th>      <th>PPLM sample 1</th>      <th>PPLM sample 2</th>      <th>PPLM sample 3</th>    </tr>  </thead>  <tbody>    <tr>      <td>The model was trained on the iris dataset. How</td>      <td>The model was trained on the iris<span style=\"color: red\"> dataset</span>.<span style=\"color: red\"> How</span> well is her model working?<br/><br/>There are several factors that can cause her to make mistakes in</td>      <td>The model was trained on the iris<span style=\"color: red\"> dataset</span>.<span style=\"color: red\"> How</span> well did the model learn?<br/><br/>We used a training set of 20 000 images.<br/><br/></td>      <td>The model was trained on the iris<span style=\"color: red\"> dataset</span>.<span style=\"color: red\"> How</span> to train a model?<br/><br/>A model is a computer program that takes a<span style=\"color: red\"> dataset</span> as input,</td>      <td>The model was trained on the iris<span style=\"color: red\"> dataset</span>.<span style=\"color: red\"> How</span> to train?<br/><br/>Train the model<br/><br/>The train function uses the train_iris function,</td>    </tr>  </tbody></table>"
      ],
      "text/plain": [
       "<IPython.core.display.HTML object>"
      ]
     },
     "metadata": {},
     "output_type": "display_data"
    }
   ],
   "source": [
    "## 3.1.c.2 good \n",
    "ex_3_1_c_2_good = '<table border=\"1\" class=\"dataframe\">  <thead>    <tr style=\"text-align: right;\">      <th>prompt</th>      <th>without PPLM</th>      <th>PPLM sample 1</th>      <th>PPLM sample 2</th>      <th>PPLM sample 3</th>    </tr>  </thead>  <tbody>    <tr>      <td>The model was trained on the iris dataset. How</td>      <td>The model was trained on the iris<span style=\"color: red\"> dataset</span>.<span style=\"color: red\"> How</span> well is her model working?<br/><br/>There are several factors that can cause her to make mistakes in</td>      <td>The model was trained on the iris<span style=\"color: red\"> dataset</span>.<span style=\"color: red\"> How</span> well did the model learn?<br/><br/>We used a training set of 20 000 images.<br/><br/></td>      <td>The model was trained on the iris<span style=\"color: red\"> dataset</span>.<span style=\"color: red\"> How</span> to train a model?<br/><br/>A model is a computer program that takes a<span style=\"color: red\"> dataset</span> as input,</td>      <td>The model was trained on the iris<span style=\"color: red\"> dataset</span>.<span style=\"color: red\"> How</span> to train?<br/><br/>Train the model<br/><br/>The train function uses the train_iris function,</td>    </tr>  </tbody></table>'\n",
    "display(HTML(ex_3_1_c_2_good))"
   ]
  },
  {
   "cell_type": "code",
   "execution_count": 15,
   "metadata": {},
   "outputs": [
    {
     "data": {
      "text/html": [
       "<table border=\"1\" class=\"dataframe\">  <thead>    <tr style=\"text-align: right;\">      <th>prompt</th>      <th>without PPLM</th>      <th>PPLM sample 1</th>      <th>PPLM sample 2</th>      <th>PPLM sample 3</th>    </tr>  </thead>  <tbody>    <tr>      <td>The model was trained on the iris dataset. How</td>      <td>The model was trained on the iris<span style=\"color: red\"> dataset</span>.<span style=\"color: red\"> How</span> well is her model working?<br/><br/>There are several factors that can cause her to make mistakes in</td>      <td>The model was trained on the iris<span style=\"color: red\"> dataset</span>.<span style=\"color: red\"> How</span> do the images in the model differ?<br/><br/>The model trained from the data was trained on the</td>      <td>The model was trained on the iris<span style=\"color: red\"> dataset</span>.<span style=\"color: red\"> How</span> much the model is able to learn about the iris<span style=\"color: red\"> dataset</span> will depend on whether the model is a</td>      <td>The model was trained on the iris<span style=\"color: red\"> dataset</span>.<span style=\"color: red\"> How</span> the brain was trained on the image<span style=\"color: red\"> dataset</span>.<br/><br/>Model training was done with the following:</td>    </tr>  </tbody></table>"
      ],
      "text/plain": [
       "<IPython.core.display.HTML object>"
      ]
     },
     "metadata": {},
     "output_type": "display_data"
    }
   ],
   "source": [
    "## 3.1.c.2 bad\n",
    "ex_3_1_c_2_bad = '<table border=\"1\" class=\"dataframe\">  <thead>    <tr style=\"text-align: right;\">      <th>prompt</th>      <th>without PPLM</th>      <th>PPLM sample 1</th>      <th>PPLM sample 2</th>      <th>PPLM sample 3</th>    </tr>  </thead>  <tbody>    <tr>      <td>The model was trained on the iris dataset. How</td>      <td>The model was trained on the iris<span style=\"color: red\"> dataset</span>.<span style=\"color: red\"> How</span> well is her model working?<br/><br/>There are several factors that can cause her to make mistakes in</td>      <td>The model was trained on the iris<span style=\"color: red\"> dataset</span>.<span style=\"color: red\"> How</span> do the images in the model differ?<br/><br/>The model trained from the data was trained on the</td>      <td>The model was trained on the iris<span style=\"color: red\"> dataset</span>.<span style=\"color: red\"> How</span> much the model is able to learn about the iris<span style=\"color: red\"> dataset</span> will depend on whether the model is a</td>      <td>The model was trained on the iris<span style=\"color: red\"> dataset</span>.<span style=\"color: red\"> How</span> the brain was trained on the image<span style=\"color: red\"> dataset</span>.<br/><br/>Model training was done with the following:</td>    </tr>  </tbody></table>'\n",
    "display(HTML(ex_3_1_c_2_bad))"
   ]
  },
  {
   "cell_type": "code",
   "execution_count": 16,
   "metadata": {},
   "outputs": [
    {
     "data": {
      "text/html": [
       "<table border=\"1\" class=\"dataframe\">  <thead>    <tr style=\"text-align: right;\">      <th>prompt</th>      <th>without PPLM</th>      <th>PPLM sample 1</th>      <th>PPLM sample 2</th>      <th>PPLM sample 3</th>    </tr>  </thead>  <tbody>    <tr>      <td>None</td>      <td>A couple weeks ago, I saw the trailer to Star Wars: The Last</td>      <td>This is not a public function from the context manager, so override<span style=\"color: red\"> instance</span> method</td>      <td>A little background to my approach to the implementation of a<span style=\"color: red\"> representation</span>. I will</td>      <td>This is not the<span style=\"color: red\"> instance</span> where you are running a custom<span style=\"color: red\"> instance</span>, but rather</td>    </tr>  </tbody></table>"
      ],
      "text/plain": [
       "<IPython.core.display.HTML object>"
      ]
     },
     "metadata": {},
     "output_type": "display_data"
    }
   ],
   "source": [
    "## Ex_4_good\n",
    "ex_4_good = '<table border=\"1\" class=\"dataframe\">  <thead>    <tr style=\"text-align: right;\">      <th>prompt</th>      <th>without PPLM</th>      <th>PPLM sample 1</th>      <th>PPLM sample 2</th>      <th>PPLM sample 3</th>    </tr>  </thead>  <tbody>    <tr>      <td>None</td>      <td>A couple weeks ago, I saw the trailer to Star Wars: The Last</td>      <td>This is not a public function from the context manager, so override<span style=\"color: red\"> instance</span> method</td>      <td>A little background to my approach to the implementation of a<span style=\"color: red\"> representation</span>. I will</td>      <td>This is not the<span style=\"color: red\"> instance</span> where you are running a custom<span style=\"color: red\"> instance</span>, but rather</td>    </tr>  </tbody></table>'\n",
    "display(HTML(ex_4_good))"
   ]
  },
  {
   "cell_type": "code",
   "execution_count": 17,
   "metadata": {},
   "outputs": [
    {
     "data": {
      "text/html": [
       "<table border=\"1\" class=\"dataframe\">  <thead>    <tr style=\"text-align: right;\">      <th>prompt</th>      <th>without PPLM</th>      <th>PPLM sample 1</th>      <th>PPLM sample 2</th>      <th>PPLM sample 3</th>    </tr>  </thead>  <tbody>    <tr>      <td>None</td>      <td>A couple weeks ago, I saw the trailer to Star Wars: The Last</td>      <td>The first time you hear the term \"cognitive illusion\" is during a</td>      <td>A new report released by the International Association of Athletics Professionals (IAAP</td>      <td>This article contains examples of tropes that are tropes. For more tropes, check</td>    </tr>  </tbody> </table>"
      ],
      "text/plain": [
       "<IPython.core.display.HTML object>"
      ]
     },
     "metadata": {},
     "output_type": "display_data"
    }
   ],
   "source": [
    "## Ex_4_bad\n",
    "ex_4_bad = '<table border=\"1\" class=\"dataframe\">  <thead>    <tr style=\"text-align: right;\">      <th>prompt</th>      <th>without PPLM</th>      <th>PPLM sample 1</th>      <th>PPLM sample 2</th>      <th>PPLM sample 3</th>    </tr>  </thead>  <tbody>    <tr>      <td>None</td>      <td>A couple weeks ago, I saw the trailer to Star Wars: The Last</td>      <td>The first time you hear the term \"cognitive illusion\" is during a</td>      <td>A new report released by the International Association of Athletics Professionals (IAAP</td>      <td>This article contains examples of tropes that are tropes. For more tropes, check</td>    </tr>  </tbody> </table>'\n",
    "display(HTML(ex_4_bad))"
   ]
  },
  {
   "cell_type": "code",
   "execution_count": null,
   "metadata": {},
   "outputs": [],
   "source": []
  }
 ],
 "metadata": {
  "kernelspec": {
   "display_name": "Python 3",
   "language": "python",
   "name": "python3"
  },
  "language_info": {
   "codemirror_mode": {
    "name": "ipython",
    "version": 3
   },
   "file_extension": ".py",
   "mimetype": "text/x-python",
   "name": "python",
   "nbconvert_exporter": "python",
   "pygments_lexer": "ipython3",
   "version": "3.8.5"
  }
 },
 "nbformat": 4,
 "nbformat_minor": 5
}
